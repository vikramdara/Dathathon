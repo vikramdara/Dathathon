{
  "nbformat": 4,
  "nbformat_minor": 0,
  "metadata": {
    "colab": {
      "name": "Datathon21.ipynb",
      "provenance": [],
      "collapsed_sections": [],
      "toc_visible": true
    },
    "kernelspec": {
      "name": "python3",
      "display_name": "Python 3"
    }
  },
  "cells": [
    {
      "cell_type": "markdown",
      "metadata": {
        "id": "wogWbrD1YP9G"
      },
      "source": [
        "Contributors: Soorya Raja Venkataramanan (svenka34),\n",
        "              Vikram Dara (vdara2)\n",
        "\n",
        "Link to video: https://youtu.be/xvdU-ChbJbE"
      ]
    },
    {
      "cell_type": "code",
      "metadata": {
        "colab": {
          "base_uri": "https://localhost:8080/"
        },
        "id": "9c325qJIJI8L",
        "outputId": "42d61407-21b1-4dff-bd4a-17070e639cf6"
      },
      "source": [
        "#Import relevant libraries.\n",
        "import pandas as pd \n",
        "import random\n",
        "from sklearn.cluster import KMeans \n",
        "import seaborn as sns\n",
        "import numpy as np\n",
        "import datetime\n",
        "from scipy import stats as st\n",
        "import matplotlib.pyplot as plt\n",
        "print(\"Done Importing\")"
      ],
      "execution_count": 589,
      "outputs": [
        {
          "output_type": "stream",
          "text": [
            "Done Importing\n"
          ],
          "name": "stdout"
        }
      ]
    },
    {
      "cell_type": "markdown",
      "metadata": {
        "id": "r2oPyU9gaR0m"
      },
      "source": [
        "Mounting to google drive where data is stored."
      ]
    },
    {
      "cell_type": "code",
      "metadata": {
        "id": "QONhsq3uOHbY",
        "colab": {
          "base_uri": "https://localhost:8080/"
        },
        "outputId": "a80dfda9-7820-48b7-f619-95e333b10c66"
      },
      "source": [
        "from google.colab import drive\n",
        "drive.mount(\"/content/drive/\")"
      ],
      "execution_count": null,
      "outputs": [
        {
          "output_type": "stream",
          "text": [
            "Drive already mounted at /content/drive/; to attempt to forcibly remount, call drive.mount(\"/content/drive/\", force_remount=True).\n"
          ],
          "name": "stdout"
        }
      ]
    },
    {
      "cell_type": "markdown",
      "metadata": {
        "id": "8zBD7R7FaZCv"
      },
      "source": [
        "Reading in the data in a Pandas dataframe."
      ]
    },
    {
      "cell_type": "code",
      "metadata": {
        "id": "vaJo60ynSrLU"
      },
      "source": [
        "#Reading and storing the data in a Pandas DataFrame.\n",
        "df = pd.read_csv(\"/content/drive/MyDrive/Datathon/SheetPullData.csv\")"
      ],
      "execution_count": null,
      "outputs": []
    },
    {
      "cell_type": "markdown",
      "metadata": {
        "id": "C2aAyruSaf9Z"
      },
      "source": [
        "# Exploratory Data Analysis"
      ]
    },
    {
      "cell_type": "code",
      "metadata": {
        "colab": {
          "base_uri": "https://localhost:8080/"
        },
        "id": "PQzRKng3TJ9j",
        "outputId": "319c896e-cc46-49a8-8012-79df837607f7"
      },
      "source": [
        "#Checking variables avaiable in the DataFrame.\n",
        "df.columns"
      ],
      "execution_count": null,
      "outputs": [
        {
          "output_type": "execute_result",
          "data": {
            "text/plain": [
              "Index(['HH_ID', 'Roll_ID', 'Roll_Type', 'Timestamp', 'Time_since_last_pull',\n",
              "       'Sheets'],\n",
              "      dtype='object')"
            ]
          },
          "metadata": {
            "tags": []
          },
          "execution_count": 22
        }
      ]
    },
    {
      "cell_type": "code",
      "metadata": {
        "colab": {
          "base_uri": "https://localhost:8080/"
        },
        "id": "GjjcMinZTRKS",
        "outputId": "e1290e63-7ab9-419e-8690-5301fea43b3c"
      },
      "source": [
        "#Checking the types that each variable is stored in.\n",
        "df.dtypes"
      ],
      "execution_count": null,
      "outputs": [
        {
          "output_type": "execute_result",
          "data": {
            "text/plain": [
              "HH_ID                    object\n",
              "Roll_ID                   int64\n",
              "Roll_Type                object\n",
              "Timestamp                object\n",
              "Time_since_last_pull    float64\n",
              "Sheets                  float64\n",
              "dtype: object"
            ]
          },
          "metadata": {
            "tags": []
          },
          "execution_count": 23
        }
      ]
    },
    {
      "cell_type": "code",
      "metadata": {
        "colab": {
          "base_uri": "https://localhost:8080/",
          "height": 294
        },
        "id": "F0ck5QxyTSvt",
        "outputId": "0341c147-4802-4579-9f5d-4d5b3e1efa73"
      },
      "source": [
        "#Exploratory Data Analysis\n",
        "#Looking at basic metrics of the numeric data.\n",
        "df.describe()"
      ],
      "execution_count": null,
      "outputs": [
        {
          "output_type": "execute_result",
          "data": {
            "text/html": [
              "<div>\n",
              "<style scoped>\n",
              "    .dataframe tbody tr th:only-of-type {\n",
              "        vertical-align: middle;\n",
              "    }\n",
              "\n",
              "    .dataframe tbody tr th {\n",
              "        vertical-align: top;\n",
              "    }\n",
              "\n",
              "    .dataframe thead th {\n",
              "        text-align: right;\n",
              "    }\n",
              "</style>\n",
              "<table border=\"1\" class=\"dataframe\">\n",
              "  <thead>\n",
              "    <tr style=\"text-align: right;\">\n",
              "      <th></th>\n",
              "      <th>Roll_ID</th>\n",
              "      <th>Time_since_last_pull</th>\n",
              "      <th>Sheets</th>\n",
              "    </tr>\n",
              "  </thead>\n",
              "  <tbody>\n",
              "    <tr>\n",
              "      <th>count</th>\n",
              "      <td>12785.000000</td>\n",
              "      <td>1.278500e+04</td>\n",
              "      <td>12785.000000</td>\n",
              "    </tr>\n",
              "    <tr>\n",
              "      <th>mean</th>\n",
              "      <td>10588.970747</td>\n",
              "      <td>6.551034e+03</td>\n",
              "      <td>4.802993</td>\n",
              "    </tr>\n",
              "    <tr>\n",
              "      <th>std</th>\n",
              "      <td>3361.010618</td>\n",
              "      <td>4.400347e+04</td>\n",
              "      <td>3.011595</td>\n",
              "    </tr>\n",
              "    <tr>\n",
              "      <th>min</th>\n",
              "      <td>-2557.000000</td>\n",
              "      <td>1.000000e+00</td>\n",
              "      <td>-11.188826</td>\n",
              "    </tr>\n",
              "    <tr>\n",
              "      <th>25%</th>\n",
              "      <td>10682.000000</td>\n",
              "      <td>1.100000e+01</td>\n",
              "      <td>2.726480</td>\n",
              "    </tr>\n",
              "    <tr>\n",
              "      <th>50%</th>\n",
              "      <td>11758.000000</td>\n",
              "      <td>4.660000e+02</td>\n",
              "      <td>4.654340</td>\n",
              "    </tr>\n",
              "    <tr>\n",
              "      <th>75%</th>\n",
              "      <td>12144.000000</td>\n",
              "      <td>7.757000e+03</td>\n",
              "      <td>6.749241</td>\n",
              "    </tr>\n",
              "    <tr>\n",
              "      <th>max</th>\n",
              "      <td>13655.000000</td>\n",
              "      <td>4.229427e+06</td>\n",
              "      <td>24.103288</td>\n",
              "    </tr>\n",
              "  </tbody>\n",
              "</table>\n",
              "</div>"
            ],
            "text/plain": [
              "            Roll_ID  Time_since_last_pull        Sheets\n",
              "count  12785.000000          1.278500e+04  12785.000000\n",
              "mean   10588.970747          6.551034e+03      4.802993\n",
              "std     3361.010618          4.400347e+04      3.011595\n",
              "min    -2557.000000          1.000000e+00    -11.188826\n",
              "25%    10682.000000          1.100000e+01      2.726480\n",
              "50%    11758.000000          4.660000e+02      4.654340\n",
              "75%    12144.000000          7.757000e+03      6.749241\n",
              "max    13655.000000          4.229427e+06     24.103288"
            ]
          },
          "metadata": {
            "tags": []
          },
          "execution_count": 24
        }
      ]
    },
    {
      "cell_type": "code",
      "metadata": {
        "colab": {
          "base_uri": "https://localhost:8080/"
        },
        "id": "KYFqq9qKTViT",
        "outputId": "06733012-186c-4f81-cd09-772e992a0d32"
      },
      "source": [
        "#Checking for and removing any missing data.\n",
        "print(\"Shape of dataset before droping missing values: \" + str(df.shape))\n",
        "df.dropna(inplace = True)\n",
        "print(\"Shape of dataset after droping missing values: \" + str(df.shape))"
      ],
      "execution_count": null,
      "outputs": [
        {
          "output_type": "stream",
          "text": [
            "Shape of dataset before droping missing values: (12785, 6)\n",
            "Shape of dataset after droping missing values: (12785, 6)\n"
          ],
          "name": "stdout"
        }
      ]
    },
    {
      "cell_type": "code",
      "metadata": {
        "colab": {
          "base_uri": "https://localhost:8080/",
          "height": 313
        },
        "id": "3BLj1Bw1TXMI",
        "outputId": "63bf1fa1-318a-4a9e-b5ad-39b536c519ef"
      },
      "source": [
        "#Scatterplot of the data to check the distribution of the data.\n",
        "plt.scatter(df['Time_since_last_pull'], df['Sheets'])\n",
        "plt.title('Sheets vs. Time Since Last Pull')\n",
        "plt.xlabel('Time since last pull (s)')\n",
        "plt.ylabel('Sheets')"
      ],
      "execution_count": null,
      "outputs": [
        {
          "output_type": "execute_result",
          "data": {
            "text/plain": [
              "Text(0, 0.5, 'Sheets')"
            ]
          },
          "metadata": {
            "tags": []
          },
          "execution_count": 27
        },
        {
          "output_type": "display_data",
          "data": {
            "image/png": "[encoded data removed]",
            "text/plain": [
              "<Figure size 432x288 with 1 Axes>"
            ]
          },
          "metadata": {
            "tags": [],
            "needs_background": "light"
          }
        }
      ]
    },
    {
      "cell_type": "code",
      "metadata": {
        "colab": {
          "base_uri": "https://localhost:8080/",
          "height": 662
        },
        "id": "s11nEDEjTY9Z",
        "outputId": "37a3dc12-a805-4dde-c567-317607f362d8"
      },
      "source": [
        "#Variable 'Time_since_last_pull' is in seconds\n",
        "#Sorting the 'Timestamp' variable in increasing order to verify the data found in 'Time_since_last_pull'\n",
        "\n",
        "df['Timestamp'] = pd.to_datetime(df['Timestamp'])\n",
        "df = df.sort_values('Timestamp').reset_index()\n",
        "df.head(20)"
      ],
      "execution_count": null,
      "outputs": [
        {
          "output_type": "execute_result",
          "data": {
            "text/html": [
              "<div>\n",
              "<style scoped>\n",
              "    .dataframe tbody tr th:only-of-type {\n",
              "        vertical-align: middle;\n",
              "    }\n",
              "\n",
              "    .dataframe tbody tr th {\n",
              "        vertical-align: top;\n",
              "    }\n",
              "\n",
              "    .dataframe thead th {\n",
              "        text-align: right;\n",
              "    }\n",
              "</style>\n",
              "<table border=\"1\" class=\"dataframe\">\n",
              "  <thead>\n",
              "    <tr style=\"text-align: right;\">\n",
              "      <th></th>\n",
              "      <th>index</th>\n",
              "      <th>HH_ID</th>\n",
              "      <th>Roll_ID</th>\n",
              "      <th>Roll_Type</th>\n",
              "      <th>Timestamp</th>\n",
              "      <th>Time_since_last_pull</th>\n",
              "      <th>Sheets</th>\n",
              "    </tr>\n",
              "  </thead>\n",
              "  <tbody>\n",
              "    <tr>\n",
              "      <th>0</th>\n",
              "      <td>4171</td>\n",
              "      <td>C</td>\n",
              "      <td>1712</td>\n",
              "      <td>Small</td>\n",
              "      <td>2019-09-25 21:40:24</td>\n",
              "      <td>5221.0</td>\n",
              "      <td>5.720330</td>\n",
              "    </tr>\n",
              "    <tr>\n",
              "      <th>1</th>\n",
              "      <td>4172</td>\n",
              "      <td>C</td>\n",
              "      <td>1712</td>\n",
              "      <td>Small</td>\n",
              "      <td>2019-09-25 21:40:47</td>\n",
              "      <td>23.0</td>\n",
              "      <td>5.660134</td>\n",
              "    </tr>\n",
              "    <tr>\n",
              "      <th>2</th>\n",
              "      <td>4173</td>\n",
              "      <td>C</td>\n",
              "      <td>1712</td>\n",
              "      <td>Small</td>\n",
              "      <td>2019-09-26 06:56:51</td>\n",
              "      <td>33364.0</td>\n",
              "      <td>4.426006</td>\n",
              "    </tr>\n",
              "    <tr>\n",
              "      <th>3</th>\n",
              "      <td>4174</td>\n",
              "      <td>C</td>\n",
              "      <td>1712</td>\n",
              "      <td>Small</td>\n",
              "      <td>2019-09-26 06:57:21</td>\n",
              "      <td>30.0</td>\n",
              "      <td>5.697719</td>\n",
              "    </tr>\n",
              "    <tr>\n",
              "      <th>4</th>\n",
              "      <td>4175</td>\n",
              "      <td>C</td>\n",
              "      <td>1712</td>\n",
              "      <td>Small</td>\n",
              "      <td>2019-09-26 09:21:36</td>\n",
              "      <td>8655.0</td>\n",
              "      <td>6.352076</td>\n",
              "    </tr>\n",
              "    <tr>\n",
              "      <th>5</th>\n",
              "      <td>4176</td>\n",
              "      <td>C</td>\n",
              "      <td>1712</td>\n",
              "      <td>Small</td>\n",
              "      <td>2019-09-26 09:22:37</td>\n",
              "      <td>61.0</td>\n",
              "      <td>5.420936</td>\n",
              "    </tr>\n",
              "    <tr>\n",
              "      <th>6</th>\n",
              "      <td>4177</td>\n",
              "      <td>C</td>\n",
              "      <td>1712</td>\n",
              "      <td>Small</td>\n",
              "      <td>2019-09-26 16:38:57</td>\n",
              "      <td>26180.0</td>\n",
              "      <td>6.481646</td>\n",
              "    </tr>\n",
              "    <tr>\n",
              "      <th>7</th>\n",
              "      <td>4178</td>\n",
              "      <td>C</td>\n",
              "      <td>1712</td>\n",
              "      <td>Small</td>\n",
              "      <td>2019-09-26 22:24:47</td>\n",
              "      <td>20750.0</td>\n",
              "      <td>5.564513</td>\n",
              "    </tr>\n",
              "    <tr>\n",
              "      <th>8</th>\n",
              "      <td>4179</td>\n",
              "      <td>C</td>\n",
              "      <td>1712</td>\n",
              "      <td>Small</td>\n",
              "      <td>2019-09-26 22:38:33</td>\n",
              "      <td>826.0</td>\n",
              "      <td>2.757245</td>\n",
              "    </tr>\n",
              "    <tr>\n",
              "      <th>9</th>\n",
              "      <td>4180</td>\n",
              "      <td>C</td>\n",
              "      <td>1712</td>\n",
              "      <td>Small</td>\n",
              "      <td>2019-09-26 22:39:52</td>\n",
              "      <td>79.0</td>\n",
              "      <td>4.104602</td>\n",
              "    </tr>\n",
              "    <tr>\n",
              "      <th>10</th>\n",
              "      <td>4181</td>\n",
              "      <td>C</td>\n",
              "      <td>1712</td>\n",
              "      <td>Small</td>\n",
              "      <td>2019-09-27 08:35:20</td>\n",
              "      <td>35728.0</td>\n",
              "      <td>6.891719</td>\n",
              "    </tr>\n",
              "    <tr>\n",
              "      <th>11</th>\n",
              "      <td>4182</td>\n",
              "      <td>C</td>\n",
              "      <td>1712</td>\n",
              "      <td>Small</td>\n",
              "      <td>2019-09-27 08:35:45</td>\n",
              "      <td>25.0</td>\n",
              "      <td>4.401570</td>\n",
              "    </tr>\n",
              "    <tr>\n",
              "      <th>12</th>\n",
              "      <td>4183</td>\n",
              "      <td>C</td>\n",
              "      <td>1712</td>\n",
              "      <td>Small</td>\n",
              "      <td>2019-09-27 10:34:55</td>\n",
              "      <td>7150.0</td>\n",
              "      <td>5.798142</td>\n",
              "    </tr>\n",
              "    <tr>\n",
              "      <th>13</th>\n",
              "      <td>4184</td>\n",
              "      <td>C</td>\n",
              "      <td>1712</td>\n",
              "      <td>Small</td>\n",
              "      <td>2019-09-27 11:31:18</td>\n",
              "      <td>3383.0</td>\n",
              "      <td>4.425106</td>\n",
              "    </tr>\n",
              "    <tr>\n",
              "      <th>14</th>\n",
              "      <td>4185</td>\n",
              "      <td>C</td>\n",
              "      <td>1712</td>\n",
              "      <td>Small</td>\n",
              "      <td>2019-09-27 13:24:58</td>\n",
              "      <td>6820.0</td>\n",
              "      <td>5.016516</td>\n",
              "    </tr>\n",
              "    <tr>\n",
              "      <th>15</th>\n",
              "      <td>4186</td>\n",
              "      <td>C</td>\n",
              "      <td>1712</td>\n",
              "      <td>Small</td>\n",
              "      <td>2019-09-27 14:42:02</td>\n",
              "      <td>4624.0</td>\n",
              "      <td>6.966814</td>\n",
              "    </tr>\n",
              "    <tr>\n",
              "      <th>16</th>\n",
              "      <td>4187</td>\n",
              "      <td>C</td>\n",
              "      <td>1712</td>\n",
              "      <td>Small</td>\n",
              "      <td>2019-09-27 15:28:05</td>\n",
              "      <td>2763.0</td>\n",
              "      <td>4.615815</td>\n",
              "    </tr>\n",
              "    <tr>\n",
              "      <th>17</th>\n",
              "      <td>4188</td>\n",
              "      <td>C</td>\n",
              "      <td>1712</td>\n",
              "      <td>Small</td>\n",
              "      <td>2019-09-27 17:07:09</td>\n",
              "      <td>5944.0</td>\n",
              "      <td>5.781043</td>\n",
              "    </tr>\n",
              "    <tr>\n",
              "      <th>18</th>\n",
              "      <td>4189</td>\n",
              "      <td>C</td>\n",
              "      <td>1712</td>\n",
              "      <td>Small</td>\n",
              "      <td>2019-09-27 22:31:55</td>\n",
              "      <td>19486.0</td>\n",
              "      <td>4.967835</td>\n",
              "    </tr>\n",
              "    <tr>\n",
              "      <th>19</th>\n",
              "      <td>4190</td>\n",
              "      <td>C</td>\n",
              "      <td>1712</td>\n",
              "      <td>Small</td>\n",
              "      <td>2019-09-27 22:32:01</td>\n",
              "      <td>6.0</td>\n",
              "      <td>0.721122</td>\n",
              "    </tr>\n",
              "  </tbody>\n",
              "</table>\n",
              "</div>"
            ],
            "text/plain": [
              "    index HH_ID  Roll_ID  ...           Timestamp Time_since_last_pull    Sheets\n",
              "0    4171     C     1712  ... 2019-09-25 21:40:24               5221.0  5.720330\n",
              "1    4172     C     1712  ... 2019-09-25 21:40:47                 23.0  5.660134\n",
              "2    4173     C     1712  ... 2019-09-26 06:56:51              33364.0  4.426006\n",
              "3    4174     C     1712  ... 2019-09-26 06:57:21                 30.0  5.697719\n",
              "4    4175     C     1712  ... 2019-09-26 09:21:36               8655.0  6.352076\n",
              "5    4176     C     1712  ... 2019-09-26 09:22:37                 61.0  5.420936\n",
              "6    4177     C     1712  ... 2019-09-26 16:38:57              26180.0  6.481646\n",
              "7    4178     C     1712  ... 2019-09-26 22:24:47              20750.0  5.564513\n",
              "8    4179     C     1712  ... 2019-09-26 22:38:33                826.0  2.757245\n",
              "9    4180     C     1712  ... 2019-09-26 22:39:52                 79.0  4.104602\n",
              "10   4181     C     1712  ... 2019-09-27 08:35:20              35728.0  6.891719\n",
              "11   4182     C     1712  ... 2019-09-27 08:35:45                 25.0  4.401570\n",
              "12   4183     C     1712  ... 2019-09-27 10:34:55               7150.0  5.798142\n",
              "13   4184     C     1712  ... 2019-09-27 11:31:18               3383.0  4.425106\n",
              "14   4185     C     1712  ... 2019-09-27 13:24:58               6820.0  5.016516\n",
              "15   4186     C     1712  ... 2019-09-27 14:42:02               4624.0  6.966814\n",
              "16   4187     C     1712  ... 2019-09-27 15:28:05               2763.0  4.615815\n",
              "17   4188     C     1712  ... 2019-09-27 17:07:09               5944.0  5.781043\n",
              "18   4189     C     1712  ... 2019-09-27 22:31:55              19486.0  4.967835\n",
              "19   4190     C     1712  ... 2019-09-27 22:32:01                  6.0  0.721122\n",
              "\n",
              "[20 rows x 7 columns]"
            ]
          },
          "metadata": {
            "tags": []
          },
          "execution_count": 28
        }
      ]
    },
    {
      "cell_type": "markdown",
      "metadata": {
        "id": "35Fnvruuaudo"
      },
      "source": [
        "# Task Definition"
      ]
    },
    {
      "cell_type": "code",
      "metadata": {
        "colab": {
          "base_uri": "https://localhost:8080/",
          "height": 611
        },
        "id": "qhcelMH7SZUh",
        "outputId": "37016615-3b42-45f4-9dea-dcec04b7c698"
      },
      "source": [
        "#Boxplot and exploratory data analysis on the 'Time_since_last_pull' variable (excluding a few outliers) to determine task definition.\n",
        "sns.boxplot('Time_since_last_pull', data = df[df['Time_since_last_pull'] < 1e2])\n",
        "\n",
        "df[df['Time_since_last_pull'] < 1e2].describe()"
      ],
      "execution_count": null,
      "outputs": [
        {
          "output_type": "stream",
          "text": [
            "/usr/local/lib/python3.7/dist-packages/seaborn/_decorators.py:43: FutureWarning: Pass the following variable as a keyword arg: x. From version 0.12, the only valid positional argument will be `data`, and passing other arguments without an explicit keyword will result in an error or misinterpretation.\n",
            "  FutureWarning\n"
          ],
          "name": "stderr"
        },
        {
          "output_type": "execute_result",
          "data": {
            "text/html": [
              "<div>\n",
              "<style scoped>\n",
              "    .dataframe tbody tr th:only-of-type {\n",
              "        vertical-align: middle;\n",
              "    }\n",
              "\n",
              "    .dataframe tbody tr th {\n",
              "        vertical-align: top;\n",
              "    }\n",
              "\n",
              "    .dataframe thead th {\n",
              "        text-align: right;\n",
              "    }\n",
              "</style>\n",
              "<table border=\"1\" class=\"dataframe\">\n",
              "  <thead>\n",
              "    <tr style=\"text-align: right;\">\n",
              "      <th></th>\n",
              "      <th>index</th>\n",
              "      <th>Roll_ID</th>\n",
              "      <th>Time_since_last_pull</th>\n",
              "      <th>Sheets</th>\n",
              "    </tr>\n",
              "  </thead>\n",
              "  <tbody>\n",
              "    <tr>\n",
              "      <th>count</th>\n",
              "      <td>5678.000000</td>\n",
              "      <td>5678.000000</td>\n",
              "      <td>5678.000000</td>\n",
              "      <td>5678.000000</td>\n",
              "    </tr>\n",
              "    <tr>\n",
              "      <th>mean</th>\n",
              "      <td>7216.548609</td>\n",
              "      <td>10538.304685</td>\n",
              "      <td>16.716978</td>\n",
              "      <td>4.774348</td>\n",
              "    </tr>\n",
              "    <tr>\n",
              "      <th>std</th>\n",
              "      <td>3641.071408</td>\n",
              "      <td>3333.428517</td>\n",
              "      <td>18.701846</td>\n",
              "      <td>3.067886</td>\n",
              "    </tr>\n",
              "    <tr>\n",
              "      <th>min</th>\n",
              "      <td>5.000000</td>\n",
              "      <td>-2557.000000</td>\n",
              "      <td>1.000000</td>\n",
              "      <td>-11.188826</td>\n",
              "    </tr>\n",
              "    <tr>\n",
              "      <th>25%</th>\n",
              "      <td>4315.250000</td>\n",
              "      <td>10682.000000</td>\n",
              "      <td>4.000000</td>\n",
              "      <td>2.562806</td>\n",
              "    </tr>\n",
              "    <tr>\n",
              "      <th>50%</th>\n",
              "      <td>7781.000000</td>\n",
              "      <td>11756.000000</td>\n",
              "      <td>9.000000</td>\n",
              "      <td>4.755818</td>\n",
              "    </tr>\n",
              "    <tr>\n",
              "      <th>75%</th>\n",
              "      <td>10257.750000</td>\n",
              "      <td>12064.000000</td>\n",
              "      <td>22.000000</td>\n",
              "      <td>6.989033</td>\n",
              "    </tr>\n",
              "    <tr>\n",
              "      <th>max</th>\n",
              "      <td>12784.000000</td>\n",
              "      <td>13655.000000</td>\n",
              "      <td>99.000000</td>\n",
              "      <td>24.103288</td>\n",
              "    </tr>\n",
              "  </tbody>\n",
              "</table>\n",
              "</div>"
            ],
            "text/plain": [
              "              index       Roll_ID  Time_since_last_pull       Sheets\n",
              "count   5678.000000   5678.000000           5678.000000  5678.000000\n",
              "mean    7216.548609  10538.304685             16.716978     4.774348\n",
              "std     3641.071408   3333.428517             18.701846     3.067886\n",
              "min        5.000000  -2557.000000              1.000000   -11.188826\n",
              "25%     4315.250000  10682.000000              4.000000     2.562806\n",
              "50%     7781.000000  11756.000000              9.000000     4.755818\n",
              "75%    10257.750000  12064.000000             22.000000     6.989033\n",
              "max    12784.000000  13655.000000             99.000000    24.103288"
            ]
          },
          "metadata": {
            "tags": []
          },
          "execution_count": 29
        },
        {
          "output_type": "display_data",
          "data": {
            "image/png": "[encoded data removed]",
            "text/plain": [
              "<Figure size 432x288 with 1 Axes>"
            ]
          },
          "metadata": {
            "tags": [],
            "needs_background": "light"
          }
        }
      ]
    },
    {
      "cell_type": "markdown",
      "metadata": {
        "id": "SUPIYx6Va0Gx"
      },
      "source": [
        "The average time it takes to begin a new task is around 16 seconds. To slightly overestimate, we have decided to set our task definition to be 22 seconds to start a new task. "
      ]
    },
    {
      "cell_type": "code",
      "metadata": {
        "colab": {
          "base_uri": "https://localhost:8080/",
          "height": 202
        },
        "id": "cfW0HFanmduc",
        "outputId": "9121abfa-2860-4bfa-ac6e-987f09b3b8b0"
      },
      "source": [
        "#Spliting data set into two to aggregate based on task definition found above.\n",
        "df_g = df[df['Time_since_last_pull'] >= 22].sort_values('Timestamp').reset_index()\n",
        "df_l = df[df['Time_since_last_pull'] < 22].sort_values('Timestamp').reset_index()\n",
        "df_g.drop(['level_0', 'index'], axis = 1, inplace = True)\n",
        "df_l.drop(['level_0', 'index'], axis = 1, inplace = True)\n",
        "\n",
        "\n",
        "df_g['Total_Sheets'] = df_g['Sheets']\n",
        "df_g['Total_Pulls'] = 1\n",
        "df_g.head()"
      ],
      "execution_count": null,
      "outputs": [
        {
          "output_type": "execute_result",
          "data": {
            "text/html": [
              "<div>\n",
              "<style scoped>\n",
              "    .dataframe tbody tr th:only-of-type {\n",
              "        vertical-align: middle;\n",
              "    }\n",
              "\n",
              "    .dataframe tbody tr th {\n",
              "        vertical-align: top;\n",
              "    }\n",
              "\n",
              "    .dataframe thead th {\n",
              "        text-align: right;\n",
              "    }\n",
              "</style>\n",
              "<table border=\"1\" class=\"dataframe\">\n",
              "  <thead>\n",
              "    <tr style=\"text-align: right;\">\n",
              "      <th></th>\n",
              "      <th>HH_ID</th>\n",
              "      <th>Roll_ID</th>\n",
              "      <th>Roll_Type</th>\n",
              "      <th>Timestamp</th>\n",
              "      <th>Time_since_last_pull</th>\n",
              "      <th>Sheets</th>\n",
              "      <th>Total_Sheets</th>\n",
              "      <th>Total_Pulls</th>\n",
              "    </tr>\n",
              "  </thead>\n",
              "  <tbody>\n",
              "    <tr>\n",
              "      <th>0</th>\n",
              "      <td>C</td>\n",
              "      <td>1712</td>\n",
              "      <td>Small</td>\n",
              "      <td>2019-09-25 21:40:24</td>\n",
              "      <td>5221.0</td>\n",
              "      <td>5.720330</td>\n",
              "      <td>5.720330</td>\n",
              "      <td>1</td>\n",
              "    </tr>\n",
              "    <tr>\n",
              "      <th>1</th>\n",
              "      <td>C</td>\n",
              "      <td>1712</td>\n",
              "      <td>Small</td>\n",
              "      <td>2019-09-25 21:40:47</td>\n",
              "      <td>23.0</td>\n",
              "      <td>5.660134</td>\n",
              "      <td>5.660134</td>\n",
              "      <td>1</td>\n",
              "    </tr>\n",
              "    <tr>\n",
              "      <th>2</th>\n",
              "      <td>C</td>\n",
              "      <td>1712</td>\n",
              "      <td>Small</td>\n",
              "      <td>2019-09-26 06:56:51</td>\n",
              "      <td>33364.0</td>\n",
              "      <td>4.426006</td>\n",
              "      <td>4.426006</td>\n",
              "      <td>1</td>\n",
              "    </tr>\n",
              "    <tr>\n",
              "      <th>3</th>\n",
              "      <td>C</td>\n",
              "      <td>1712</td>\n",
              "      <td>Small</td>\n",
              "      <td>2019-09-26 06:57:21</td>\n",
              "      <td>30.0</td>\n",
              "      <td>5.697719</td>\n",
              "      <td>5.697719</td>\n",
              "      <td>1</td>\n",
              "    </tr>\n",
              "    <tr>\n",
              "      <th>4</th>\n",
              "      <td>C</td>\n",
              "      <td>1712</td>\n",
              "      <td>Small</td>\n",
              "      <td>2019-09-26 09:21:36</td>\n",
              "      <td>8655.0</td>\n",
              "      <td>6.352076</td>\n",
              "      <td>6.352076</td>\n",
              "      <td>1</td>\n",
              "    </tr>\n",
              "  </tbody>\n",
              "</table>\n",
              "</div>"
            ],
            "text/plain": [
              "  HH_ID  Roll_ID Roll_Type  ...    Sheets  Total_Sheets  Total_Pulls\n",
              "0     C     1712     Small  ...  5.720330      5.720330            1\n",
              "1     C     1712     Small  ...  5.660134      5.660134            1\n",
              "2     C     1712     Small  ...  4.426006      4.426006            1\n",
              "3     C     1712     Small  ...  5.697719      5.697719            1\n",
              "4     C     1712     Small  ...  6.352076      6.352076            1\n",
              "\n",
              "[5 rows x 8 columns]"
            ]
          },
          "metadata": {
            "tags": []
          },
          "execution_count": 31
        }
      ]
    },
    {
      "cell_type": "markdown",
      "metadata": {
        "id": "KPGhQKRrbMAN"
      },
      "source": [
        "# Combining Tasks"
      ]
    },
    {
      "cell_type": "code",
      "metadata": {
        "id": "A-l7v2L1AlkC"
      },
      "source": [
        "#Aggregating sheets into tasks using task definition\n",
        "df_g_t = df_g.set_index('Timestamp')\n",
        "df_g_t = df_g_t.loc[~df_g_t.index.duplicated(keep='first')]\n",
        "#count = 0\n",
        "total = list(df_g['Sheets'])\n",
        "pull = list(df_g['Total_Pulls'])\n",
        "#print(total)\n",
        "for i in df_l['Timestamp']:\n",
        "  idx = df_g_t.index[df_g_t.index.get_loc(i, method='nearest')]\n",
        "  j = df_g.loc[df_g['Timestamp'] == idx]\n",
        "  k = df_l.loc[df_l['Timestamp'] == i]\n",
        "  #lst_idx = total.index(j['Sheets'])\n",
        "  j_f = float(j['Sheets'])\n",
        "  k_f = float(k['Sheets'])\n",
        "  total[df_g_t.index.get_loc(i, method='nearest')] = j_f + k_f\n",
        "  pull[df_g_t.index.get_loc(i, method='nearest')] += 1 \n",
        "  #count += 1\n",
        "#print(total)\n",
        "df_g['Total_Sheets'] =  total\n",
        "df_g['Total_Pulls'] = pull"
      ],
      "execution_count": null,
      "outputs": []
    },
    {
      "cell_type": "code",
      "metadata": {
        "id": "NjikPsFaNBQ5",
        "colab": {
          "base_uri": "https://localhost:8080/",
          "height": 572
        },
        "outputId": "a8015ddd-e246-4d9c-aa34-d16964e67756"
      },
      "source": [
        "#Renaming dataframe to 'Sheets' for easy access and referal.\n",
        "plt.scatter(df_g[df_g['Time_since_last_pull'] < 1e2]['Time_since_last_pull'], df_g[df_g['Time_since_last_pull'] < 1e2]['Total_Sheets'])\n",
        "plt.title('Total Sheets vs. Time difference')\n",
        "plt.xlabel('Time since last pull (s)')\n",
        "plt.ylabel('Total Sheets for a task')\n",
        "\n",
        "\n",
        "sheets = df_g\n",
        "sheets.describe()"
      ],
      "execution_count": null,
      "outputs": [
        {
          "output_type": "execute_result",
          "data": {
            "text/html": [
              "<div>\n",
              "<style scoped>\n",
              "    .dataframe tbody tr th:only-of-type {\n",
              "        vertical-align: middle;\n",
              "    }\n",
              "\n",
              "    .dataframe tbody tr th {\n",
              "        vertical-align: top;\n",
              "    }\n",
              "\n",
              "    .dataframe thead th {\n",
              "        text-align: right;\n",
              "    }\n",
              "</style>\n",
              "<table border=\"1\" class=\"dataframe\">\n",
              "  <thead>\n",
              "    <tr style=\"text-align: right;\">\n",
              "      <th></th>\n",
              "      <th>Roll_ID</th>\n",
              "      <th>Time_since_last_pull</th>\n",
              "      <th>Sheets</th>\n",
              "      <th>Total_Sheets</th>\n",
              "      <th>Total_Pulls</th>\n",
              "    </tr>\n",
              "  </thead>\n",
              "  <tbody>\n",
              "    <tr>\n",
              "      <th>count</th>\n",
              "      <td>8533.000000</td>\n",
              "      <td>8.533000e+03</td>\n",
              "      <td>8533.000000</td>\n",
              "      <td>8533.000000</td>\n",
              "      <td>8533.000000</td>\n",
              "    </tr>\n",
              "    <tr>\n",
              "      <th>mean</th>\n",
              "      <td>10628.332240</td>\n",
              "      <td>9.811497e+03</td>\n",
              "      <td>4.826775</td>\n",
              "      <td>6.366777</td>\n",
              "      <td>1.498301</td>\n",
              "    </tr>\n",
              "    <tr>\n",
              "      <th>std</th>\n",
              "      <td>3387.316858</td>\n",
              "      <td>5.356597e+04</td>\n",
              "      <td>2.943324</td>\n",
              "      <td>4.387875</td>\n",
              "      <td>0.870361</td>\n",
              "    </tr>\n",
              "    <tr>\n",
              "      <th>min</th>\n",
              "      <td>-2557.000000</td>\n",
              "      <td>2.200000e+01</td>\n",
              "      <td>-11.188826</td>\n",
              "      <td>-7.771117</td>\n",
              "      <td>1.000000</td>\n",
              "    </tr>\n",
              "    <tr>\n",
              "      <th>25%</th>\n",
              "      <td>10761.000000</td>\n",
              "      <td>4.570000e+02</td>\n",
              "      <td>2.846286</td>\n",
              "      <td>3.451905</td>\n",
              "      <td>1.000000</td>\n",
              "    </tr>\n",
              "    <tr>\n",
              "      <th>50%</th>\n",
              "      <td>11768.000000</td>\n",
              "      <td>4.576000e+03</td>\n",
              "      <td>4.618301</td>\n",
              "      <td>5.432745</td>\n",
              "      <td>1.000000</td>\n",
              "    </tr>\n",
              "    <tr>\n",
              "      <th>75%</th>\n",
              "      <td>12144.000000</td>\n",
              "      <td>1.188400e+04</td>\n",
              "      <td>6.570645</td>\n",
              "      <td>8.337304</td>\n",
              "      <td>2.000000</td>\n",
              "    </tr>\n",
              "    <tr>\n",
              "      <th>max</th>\n",
              "      <td>13655.000000</td>\n",
              "      <td>4.229427e+06</td>\n",
              "      <td>22.661269</td>\n",
              "      <td>29.615914</td>\n",
              "      <td>9.000000</td>\n",
              "    </tr>\n",
              "  </tbody>\n",
              "</table>\n",
              "</div>"
            ],
            "text/plain": [
              "            Roll_ID  Time_since_last_pull  ...  Total_Sheets  Total_Pulls\n",
              "count   8533.000000          8.533000e+03  ...   8533.000000  8533.000000\n",
              "mean   10628.332240          9.811497e+03  ...      6.366777     1.498301\n",
              "std     3387.316858          5.356597e+04  ...      4.387875     0.870361\n",
              "min    -2557.000000          2.200000e+01  ...     -7.771117     1.000000\n",
              "25%    10761.000000          4.570000e+02  ...      3.451905     1.000000\n",
              "50%    11768.000000          4.576000e+03  ...      5.432745     1.000000\n",
              "75%    12144.000000          1.188400e+04  ...      8.337304     2.000000\n",
              "max    13655.000000          4.229427e+06  ...     29.615914     9.000000\n",
              "\n",
              "[8 rows x 5 columns]"
            ]
          },
          "metadata": {
            "tags": []
          },
          "execution_count": 33
        },
        {
          "output_type": "display_data",
          "data": {
            "image/png": "[encoded data removed]",
            "text/plain": [
              "<Figure size 432x288 with 1 Axes>"
            ]
          },
          "metadata": {
            "tags": [],
            "needs_background": "light"
          }
        }
      ]
    },
    {
      "cell_type": "markdown",
      "metadata": {
        "id": "xXl3oAy-b2ql"
      },
      "source": [
        "# Data Insights"
      ]
    },
    {
      "cell_type": "code",
      "metadata": {
        "colab": {
          "base_uri": "https://localhost:8080/",
          "height": 415
        },
        "id": "1brmcyoUdtBy",
        "outputId": "4a53d9bb-1bb9-4292-cabf-f59006c03239"
      },
      "source": [
        "sheets[sheets['Sheets'] != sheets['Total_Sheets']]"
      ],
      "execution_count": null,
      "outputs": [
        {
          "output_type": "execute_result",
          "data": {
            "text/html": [
              "<div>\n",
              "<style scoped>\n",
              "    .dataframe tbody tr th:only-of-type {\n",
              "        vertical-align: middle;\n",
              "    }\n",
              "\n",
              "    .dataframe tbody tr th {\n",
              "        vertical-align: top;\n",
              "    }\n",
              "\n",
              "    .dataframe thead th {\n",
              "        text-align: right;\n",
              "    }\n",
              "</style>\n",
              "<table border=\"1\" class=\"dataframe\">\n",
              "  <thead>\n",
              "    <tr style=\"text-align: right;\">\n",
              "      <th></th>\n",
              "      <th>HH_ID</th>\n",
              "      <th>Roll_ID</th>\n",
              "      <th>Roll_Type</th>\n",
              "      <th>Timestamp</th>\n",
              "      <th>Time_since_last_pull</th>\n",
              "      <th>Sheets</th>\n",
              "      <th>Total_Sheets</th>\n",
              "      <th>Total_Pulls</th>\n",
              "    </tr>\n",
              "  </thead>\n",
              "  <tbody>\n",
              "    <tr>\n",
              "      <th>18</th>\n",
              "      <td>C</td>\n",
              "      <td>1712</td>\n",
              "      <td>Small</td>\n",
              "      <td>2019-09-27 22:31:55</td>\n",
              "      <td>19486.0</td>\n",
              "      <td>4.967835</td>\n",
              "      <td>5.688957</td>\n",
              "      <td>2</td>\n",
              "    </tr>\n",
              "    <tr>\n",
              "      <th>19</th>\n",
              "      <td>C</td>\n",
              "      <td>1712</td>\n",
              "      <td>Small</td>\n",
              "      <td>2019-09-28 00:43:51</td>\n",
              "      <td>7910.0</td>\n",
              "      <td>4.176637</td>\n",
              "      <td>5.005836</td>\n",
              "      <td>2</td>\n",
              "    </tr>\n",
              "    <tr>\n",
              "      <th>20</th>\n",
              "      <td>C</td>\n",
              "      <td>1712</td>\n",
              "      <td>Small</td>\n",
              "      <td>2019-09-28 01:53:42</td>\n",
              "      <td>4187.0</td>\n",
              "      <td>5.048840</td>\n",
              "      <td>5.165338</td>\n",
              "      <td>2</td>\n",
              "    </tr>\n",
              "    <tr>\n",
              "      <th>21</th>\n",
              "      <td>C</td>\n",
              "      <td>1712</td>\n",
              "      <td>Small</td>\n",
              "      <td>2019-09-28 08:47:58</td>\n",
              "      <td>24855.0</td>\n",
              "      <td>3.129683</td>\n",
              "      <td>6.114729</td>\n",
              "      <td>2</td>\n",
              "    </tr>\n",
              "    <tr>\n",
              "      <th>25</th>\n",
              "      <td>A</td>\n",
              "      <td>1207</td>\n",
              "      <td>Small</td>\n",
              "      <td>2019-09-28 16:08:03</td>\n",
              "      <td>6266.0</td>\n",
              "      <td>4.479940</td>\n",
              "      <td>5.592776</td>\n",
              "      <td>4</td>\n",
              "    </tr>\n",
              "    <tr>\n",
              "      <th>...</th>\n",
              "      <td>...</td>\n",
              "      <td>...</td>\n",
              "      <td>...</td>\n",
              "      <td>...</td>\n",
              "      <td>...</td>\n",
              "      <td>...</td>\n",
              "      <td>...</td>\n",
              "      <td>...</td>\n",
              "    </tr>\n",
              "    <tr>\n",
              "      <th>8511</th>\n",
              "      <td>C</td>\n",
              "      <td>13015</td>\n",
              "      <td>Big</td>\n",
              "      <td>2020-09-03 12:38:00</td>\n",
              "      <td>7258.0</td>\n",
              "      <td>2.588216</td>\n",
              "      <td>5.260661</td>\n",
              "      <td>2</td>\n",
              "    </tr>\n",
              "    <tr>\n",
              "      <th>8516</th>\n",
              "      <td>C</td>\n",
              "      <td>13015</td>\n",
              "      <td>Big</td>\n",
              "      <td>2020-09-03 22:16:29</td>\n",
              "      <td>5494.0</td>\n",
              "      <td>1.946790</td>\n",
              "      <td>3.862549</td>\n",
              "      <td>2</td>\n",
              "    </tr>\n",
              "    <tr>\n",
              "      <th>8517</th>\n",
              "      <td>C</td>\n",
              "      <td>13015</td>\n",
              "      <td>Big</td>\n",
              "      <td>2020-09-04 07:34:54</td>\n",
              "      <td>33505.0</td>\n",
              "      <td>0.775820</td>\n",
              "      <td>2.550438</td>\n",
              "      <td>3</td>\n",
              "    </tr>\n",
              "    <tr>\n",
              "      <th>8518</th>\n",
              "      <td>C</td>\n",
              "      <td>13015</td>\n",
              "      <td>Big</td>\n",
              "      <td>2020-09-04 07:35:28</td>\n",
              "      <td>30.0</td>\n",
              "      <td>1.915759</td>\n",
              "      <td>3.989127</td>\n",
              "      <td>2</td>\n",
              "    </tr>\n",
              "    <tr>\n",
              "      <th>8529</th>\n",
              "      <td>C</td>\n",
              "      <td>13015</td>\n",
              "      <td>Big</td>\n",
              "      <td>2020-09-05 05:29:37</td>\n",
              "      <td>15397.0</td>\n",
              "      <td>2.938943</td>\n",
              "      <td>0.934394</td>\n",
              "      <td>2</td>\n",
              "    </tr>\n",
              "  </tbody>\n",
              "</table>\n",
              "<p>2811 rows × 8 columns</p>\n",
              "</div>"
            ],
            "text/plain": [
              "     HH_ID  Roll_ID Roll_Type  ...    Sheets  Total_Sheets  Total_Pulls\n",
              "18       C     1712     Small  ...  4.967835      5.688957            2\n",
              "19       C     1712     Small  ...  4.176637      5.005836            2\n",
              "20       C     1712     Small  ...  5.048840      5.165338            2\n",
              "21       C     1712     Small  ...  3.129683      6.114729            2\n",
              "25       A     1207     Small  ...  4.479940      5.592776            4\n",
              "...    ...      ...       ...  ...       ...           ...          ...\n",
              "8511     C    13015       Big  ...  2.588216      5.260661            2\n",
              "8516     C    13015       Big  ...  1.946790      3.862549            2\n",
              "8517     C    13015       Big  ...  0.775820      2.550438            3\n",
              "8518     C    13015       Big  ...  1.915759      3.989127            2\n",
              "8529     C    13015       Big  ...  2.938943      0.934394            2\n",
              "\n",
              "[2811 rows x 8 columns]"
            ]
          },
          "metadata": {
            "tags": []
          },
          "execution_count": 34
        }
      ]
    },
    {
      "cell_type": "code",
      "metadata": {
        "colab": {
          "base_uri": "https://localhost:8080/",
          "height": 204
        },
        "id": "gYMTYWGXceWu",
        "outputId": "a3fb0a31-3df4-40f8-a3ff-4aa903a54d1a"
      },
      "source": [
        "#Converting 'HH_ID' to a numeric variable\n",
        "from sklearn.preprocessing import OrdinalEncoder\n",
        "\n",
        "oe = OrdinalEncoder()\n",
        "sheets['ID'] = oe.fit_transform(sheets[['HH_ID']])\n",
        "sheets['Type'] = oe.fit_transform(sheets[['Roll_Type']])\n",
        "sheets.head()\n"
      ],
      "execution_count": 530,
      "outputs": [
        {
          "output_type": "execute_result",
          "data": {
            "text/html": [
              "<div>\n",
              "<style scoped>\n",
              "    .dataframe tbody tr th:only-of-type {\n",
              "        vertical-align: middle;\n",
              "    }\n",
              "\n",
              "    .dataframe tbody tr th {\n",
              "        vertical-align: top;\n",
              "    }\n",
              "\n",
              "    .dataframe thead th {\n",
              "        text-align: right;\n",
              "    }\n",
              "</style>\n",
              "<table border=\"1\" class=\"dataframe\">\n",
              "  <thead>\n",
              "    <tr style=\"text-align: right;\">\n",
              "      <th></th>\n",
              "      <th>HH_ID</th>\n",
              "      <th>Roll_ID</th>\n",
              "      <th>Roll_Type</th>\n",
              "      <th>Timestamp</th>\n",
              "      <th>Time_since_last_pull</th>\n",
              "      <th>Sheets</th>\n",
              "      <th>Task</th>\n",
              "      <th>Total_Sheets</th>\n",
              "      <th>Total_Pulls</th>\n",
              "      <th>ID</th>\n",
              "      <th>Type</th>\n",
              "    </tr>\n",
              "  </thead>\n",
              "  <tbody>\n",
              "    <tr>\n",
              "      <th>0</th>\n",
              "      <td>C</td>\n",
              "      <td>1712</td>\n",
              "      <td>Small</td>\n",
              "      <td>2019-09-25 21:40:24</td>\n",
              "      <td>5221.0</td>\n",
              "      <td>5.720330</td>\n",
              "      <td>0</td>\n",
              "      <td>5.720330</td>\n",
              "      <td>1</td>\n",
              "      <td>2.0</td>\n",
              "      <td>1.0</td>\n",
              "    </tr>\n",
              "    <tr>\n",
              "      <th>1</th>\n",
              "      <td>C</td>\n",
              "      <td>1712</td>\n",
              "      <td>Small</td>\n",
              "      <td>2019-09-25 21:40:47</td>\n",
              "      <td>23.0</td>\n",
              "      <td>5.660134</td>\n",
              "      <td>0</td>\n",
              "      <td>5.660134</td>\n",
              "      <td>1</td>\n",
              "      <td>2.0</td>\n",
              "      <td>1.0</td>\n",
              "    </tr>\n",
              "    <tr>\n",
              "      <th>2</th>\n",
              "      <td>C</td>\n",
              "      <td>1712</td>\n",
              "      <td>Small</td>\n",
              "      <td>2019-09-26 06:56:51</td>\n",
              "      <td>33364.0</td>\n",
              "      <td>4.426006</td>\n",
              "      <td>0</td>\n",
              "      <td>4.426006</td>\n",
              "      <td>1</td>\n",
              "      <td>2.0</td>\n",
              "      <td>1.0</td>\n",
              "    </tr>\n",
              "    <tr>\n",
              "      <th>3</th>\n",
              "      <td>C</td>\n",
              "      <td>1712</td>\n",
              "      <td>Small</td>\n",
              "      <td>2019-09-26 06:57:21</td>\n",
              "      <td>30.0</td>\n",
              "      <td>5.697719</td>\n",
              "      <td>0</td>\n",
              "      <td>5.697719</td>\n",
              "      <td>1</td>\n",
              "      <td>2.0</td>\n",
              "      <td>1.0</td>\n",
              "    </tr>\n",
              "    <tr>\n",
              "      <th>4</th>\n",
              "      <td>C</td>\n",
              "      <td>1712</td>\n",
              "      <td>Small</td>\n",
              "      <td>2019-09-26 09:21:36</td>\n",
              "      <td>8655.0</td>\n",
              "      <td>6.352076</td>\n",
              "      <td>0</td>\n",
              "      <td>6.352076</td>\n",
              "      <td>1</td>\n",
              "      <td>2.0</td>\n",
              "      <td>1.0</td>\n",
              "    </tr>\n",
              "  </tbody>\n",
              "</table>\n",
              "</div>"
            ],
            "text/plain": [
              "  HH_ID  Roll_ID Roll_Type  ... Total_Pulls   ID  Type\n",
              "0     C     1712     Small  ...           1  2.0   1.0\n",
              "1     C     1712     Small  ...           1  2.0   1.0\n",
              "2     C     1712     Small  ...           1  2.0   1.0\n",
              "3     C     1712     Small  ...           1  2.0   1.0\n",
              "4     C     1712     Small  ...           1  2.0   1.0\n",
              "\n",
              "[5 rows x 11 columns]"
            ]
          },
          "metadata": {
            "tags": []
          },
          "execution_count": 530
        }
      ]
    },
    {
      "cell_type": "code",
      "metadata": {
        "colab": {
          "base_uri": "https://localhost:8080/",
          "height": 297
        },
        "id": "QuITCJlNMIe5",
        "outputId": "b783c137-b02a-408a-bd18-2a966afa9ace"
      },
      "source": [
        "#Boxplots of the 'Sheet' variable subsetted and organized by each household id/type.\n",
        "sns.boxplot(x = 'HH_ID', y = 'Total_Sheets', data = sheets)"
      ],
      "execution_count": null,
      "outputs": [
        {
          "output_type": "execute_result",
          "data": {
            "text/plain": [
              "<matplotlib.axes._subplots.AxesSubplot at 0x7fbf922ac950>"
            ]
          },
          "metadata": {
            "tags": []
          },
          "execution_count": 36
        },
        {
          "output_type": "display_data",
          "data": {
            "image/png": "[encoded data removed]",
            "text/plain": [
              "<Figure size 432x288 with 1 Axes>"
            ]
          },
          "metadata": {
            "tags": [],
            "needs_background": "light"
          }
        }
      ]
    },
    {
      "cell_type": "code",
      "metadata": {
        "colab": {
          "base_uri": "https://localhost:8080/",
          "height": 297
        },
        "id": "mABOZJziMIlr",
        "outputId": "b3d9348e-209b-4ac3-9415-ec7ab086429b"
      },
      "source": [
        "#Boxplots of the 'Sheet' variable subsetted and organized by each roll type.\n",
        "sns.boxplot(x = 'Roll_Type', y = 'Sheets', data = sheets)"
      ],
      "execution_count": null,
      "outputs": [
        {
          "output_type": "execute_result",
          "data": {
            "text/plain": [
              "<matplotlib.axes._subplots.AxesSubplot at 0x7fbf9224ae10>"
            ]
          },
          "metadata": {
            "tags": []
          },
          "execution_count": 37
        },
        {
          "output_type": "display_data",
          "data": {
            "image/png": "[encoded data removed]",
            "text/plain": [
              "<Figure size 432x288 with 1 Axes>"
            ]
          },
          "metadata": {
            "tags": [],
            "needs_background": "light"
          }
        }
      ]
    },
    {
      "cell_type": "code",
      "metadata": {
        "id": "t-fdJYjVbxNh"
      },
      "source": [
        "#Subsetting data to exclude a few outliers.\n",
        "sh = sheets[sheets['Time_since_last_pull'] < 1e3]"
      ],
      "execution_count": 532,
      "outputs": []
    },
    {
      "cell_type": "code",
      "metadata": {
        "colab": {
          "base_uri": "https://localhost:8080/",
          "height": 282
        },
        "id": "Fpmae8qHUgzU",
        "outputId": "1a97b75c-97ba-42de-d6ca-fdcb1161af49"
      },
      "source": [
        "#Subsetting data to a range of values for easier clustering algorithm process.\n",
        "sh_sub = sh[sh['Time_since_last_pull'] > 22]\n",
        "plt.scatter(sh_sub['Time_since_last_pull'], sh_sub['Sheets'])"
      ],
      "execution_count": 534,
      "outputs": [
        {
          "output_type": "execute_result",
          "data": {
            "text/plain": [
              "<matplotlib.collections.PathCollection at 0x7f8bd6ad1590>"
            ]
          },
          "metadata": {
            "tags": []
          },
          "execution_count": 534
        },
        {
          "output_type": "display_data",
          "data": {
            "image/png": "[encoded data removed]",
            "text/plain": [
              "<Figure size 432x288 with 1 Axes>"
            ]
          },
          "metadata": {
            "tags": [],
            "needs_background": "light"
          }
        }
      ]
    },
    {
      "cell_type": "code",
      "metadata": {
        "colab": {
          "base_uri": "https://localhost:8080/",
          "height": 297
        },
        "id": "sg1Fy2byUPwK",
        "outputId": "8b12ebd4-3f84-4693-a61f-c64a20694af4"
      },
      "source": [
        "sns.boxplot(x = 'HH_ID', y = 'Sheets', data = sh_sub)"
      ],
      "execution_count": 535,
      "outputs": [
        {
          "output_type": "execute_result",
          "data": {
            "text/plain": [
              "<matplotlib.axes._subplots.AxesSubplot at 0x7f8bd5cfef50>"
            ]
          },
          "metadata": {
            "tags": []
          },
          "execution_count": 535
        },
        {
          "output_type": "display_data",
          "data": {
            "image/png": "[encoded data removed]",
            "text/plain": [
              "<Figure size 432x288 with 1 Axes>"
            ]
          },
          "metadata": {
            "tags": [],
            "needs_background": "light"
          }
        }
      ]
    },
    {
      "cell_type": "code",
      "metadata": {
        "colab": {
          "base_uri": "https://localhost:8080/",
          "height": 297
        },
        "id": "McpRHL_0XhVP",
        "outputId": "880c2412-34bb-42d0-9ace-b272f4fe4dab"
      },
      "source": [
        "sns.boxplot(x = 'Roll_Type', y = 'Sheets', data = sh_sub)"
      ],
      "execution_count": 536,
      "outputs": [
        {
          "output_type": "execute_result",
          "data": {
            "text/plain": [
              "<matplotlib.axes._subplots.AxesSubplot at 0x7f8bd5f79390>"
            ]
          },
          "metadata": {
            "tags": []
          },
          "execution_count": 536
        },
        {
          "output_type": "display_data",
          "data": {
            "image/png": "[encoded data removed]",
            "text/plain": [
              "<Figure size 432x288 with 1 Axes>"
            ]
          },
          "metadata": {
            "tags": [],
            "needs_background": "light"
          }
        }
      ]
    },
    {
      "cell_type": "markdown",
      "metadata": {
        "id": "wcusWwN0c7sH"
      },
      "source": [
        "# Clustering Algorithm"
      ]
    },
    {
      "cell_type": "code",
      "metadata": {
        "id": "bltG9RdPUa6H"
      },
      "source": [
        "k_means = KMeans(init = \"k-means++\", n_clusters = 4, n_init = 12)"
      ],
      "execution_count": 551,
      "outputs": []
    },
    {
      "cell_type": "code",
      "metadata": {
        "id": "E6z90v5cXE2N"
      },
      "source": [
        "X = sh_sub[['Total_Pulls', 'Total_Sheets', 'ID', 'Type']].values\r\n",
        "#X"
      ],
      "execution_count": 552,
      "outputs": []
    },
    {
      "cell_type": "code",
      "metadata": {
        "colab": {
          "base_uri": "https://localhost:8080/"
        },
        "id": "YzDGyHp9XHA6",
        "outputId": "5701a8ec-dc9d-4c49-b2f0-bf1774c9e270"
      },
      "source": [
        "k_means.fit(X)"
      ],
      "execution_count": 553,
      "outputs": [
        {
          "output_type": "execute_result",
          "data": {
            "text/plain": [
              "KMeans(algorithm='auto', copy_x=True, init='k-means++', max_iter=300,\n",
              "       n_clusters=4, n_init=12, n_jobs=None, precompute_distances='auto',\n",
              "       random_state=None, tol=0.0001, verbose=0)"
            ]
          },
          "metadata": {
            "tags": []
          },
          "execution_count": 553
        }
      ]
    },
    {
      "cell_type": "code",
      "metadata": {
        "colab": {
          "base_uri": "https://localhost:8080/"
        },
        "id": "w9ZEGNy7XIp5",
        "outputId": "fcb5426b-2e64-4d8e-8e97-b2e7d0e461de"
      },
      "source": [
        "k_means_labels = k_means.labels_\n",
        "k_means_labels"
      ],
      "execution_count": 554,
      "outputs": [
        {
          "output_type": "execute_result",
          "data": {
            "text/plain": [
              "array([3, 3, 3, ..., 3, 0, 0], dtype=int32)"
            ]
          },
          "metadata": {
            "tags": []
          },
          "execution_count": 554
        }
      ]
    },
    {
      "cell_type": "code",
      "metadata": {
        "colab": {
          "base_uri": "https://localhost:8080/"
        },
        "id": "eRG2EljzXKRB",
        "outputId": "4220e056-501c-479a-f42d-5ac8852a3a0e"
      },
      "source": [
        "k_means_cluster_centers = k_means.cluster_centers_\n",
        "k_means_cluster_centers"
      ],
      "execution_count": 555,
      "outputs": [
        {
          "output_type": "execute_result",
          "data": {
            "text/plain": [
              "array([[ 1.16945373,  2.00088059,  2.18729097,  0.12263099],\n",
              "       [ 1.7793345 ,  9.2092156 ,  2.4938704 ,  0.05604203],\n",
              "       [ 2.4845815 , 16.40348489,  2.51982379,  0.01762115],\n",
              "       [ 1.27796235,  5.21158654,  2.04651163,  0.15282392]])"
            ]
          },
          "metadata": {
            "tags": []
          },
          "execution_count": 555
        }
      ]
    },
    {
      "cell_type": "code",
      "metadata": {
        "colab": {
          "base_uri": "https://localhost:8080/",
          "height": 281
        },
        "id": "RoOZt-wfXMfG",
        "outputId": "f5df830b-9830-4324-a7b7-6d82d01836e4"
      },
      "source": [
        "#Plotting the k-means results\n",
        "#Borrowed from IBM Data Science\n",
        "fig = plt.figure(figsize=(6, 4))\n",
        "\n",
        "colors = plt.cm.Spectral(np.linspace(0, 1, len(set(k_means_labels))))\n",
        "\n",
        "ax = fig.add_subplot(1, 1, 1)\n",
        "\n",
        "for k, col in zip(range(len(k_means.cluster_centers_)), colors):\n",
        "\n",
        "    my_members = (k_means_labels == k)\n",
        "    \n",
        "    cluster_center = k_means_cluster_centers[k]\n",
        "    \n",
        "    ax.plot(X[my_members, 0], X[my_members, 1], 'w', markerfacecolor=col, marker='.')\n",
        "    \n",
        "    ax.plot(cluster_center[0], cluster_center[1], 'o', markerfacecolor=col,  markeredgecolor='k', markersize=6)\n",
        "\n",
        "ax.set_title('KMeans')\n",
        "\n",
        "plt.show()"
      ],
      "execution_count": 556,
      "outputs": [
        {
          "output_type": "display_data",
          "data": {
            "image/png": "[encoded data removed]",
            "text/plain": [
              "<Figure size 432x288 with 1 Axes>"
            ]
          },
          "metadata": {
            "tags": [],
            "needs_background": "light"
          }
        }
      ]
    },
    {
      "cell_type": "markdown",
      "metadata": {
        "id": "Tli1R5hGdHru"
      },
      "source": [
        "# Prediction and Task Assignment"
      ]
    },
    {
      "cell_type": "code",
      "metadata": {
        "id": "Ztjl1bA4TrtY"
      },
      "source": [
        "cl = k_means.predict(sheets[['Total_Pulls', 'Total_Sheets', 'ID', 'Type']])\n",
        "sheets['Task'] = cl"
      ],
      "execution_count": 557,
      "outputs": []
    },
    {
      "cell_type": "code",
      "metadata": {
        "colab": {
          "base_uri": "https://localhost:8080/",
          "height": 419
        },
        "id": "cdGykekXXUcs",
        "outputId": "8a4eede8-9570-4d86-b971-694b5f240d24"
      },
      "source": [
        "sheets"
      ],
      "execution_count": 558,
      "outputs": [
        {
          "output_type": "execute_result",
          "data": {
            "text/html": [
              "<div>\n",
              "<style scoped>\n",
              "    .dataframe tbody tr th:only-of-type {\n",
              "        vertical-align: middle;\n",
              "    }\n",
              "\n",
              "    .dataframe tbody tr th {\n",
              "        vertical-align: top;\n",
              "    }\n",
              "\n",
              "    .dataframe thead th {\n",
              "        text-align: right;\n",
              "    }\n",
              "</style>\n",
              "<table border=\"1\" class=\"dataframe\">\n",
              "  <thead>\n",
              "    <tr style=\"text-align: right;\">\n",
              "      <th></th>\n",
              "      <th>HH_ID</th>\n",
              "      <th>Roll_ID</th>\n",
              "      <th>Roll_Type</th>\n",
              "      <th>Timestamp</th>\n",
              "      <th>Time_since_last_pull</th>\n",
              "      <th>Sheets</th>\n",
              "      <th>Task</th>\n",
              "      <th>Total_Sheets</th>\n",
              "      <th>Total_Pulls</th>\n",
              "      <th>ID</th>\n",
              "      <th>Type</th>\n",
              "    </tr>\n",
              "  </thead>\n",
              "  <tbody>\n",
              "    <tr>\n",
              "      <th>0</th>\n",
              "      <td>C</td>\n",
              "      <td>1712</td>\n",
              "      <td>Small</td>\n",
              "      <td>2019-09-25 21:40:24</td>\n",
              "      <td>5221.0</td>\n",
              "      <td>5.720330</td>\n",
              "      <td>3</td>\n",
              "      <td>5.720330</td>\n",
              "      <td>1</td>\n",
              "      <td>2.0</td>\n",
              "      <td>1.0</td>\n",
              "    </tr>\n",
              "    <tr>\n",
              "      <th>1</th>\n",
              "      <td>C</td>\n",
              "      <td>1712</td>\n",
              "      <td>Small</td>\n",
              "      <td>2019-09-25 21:40:47</td>\n",
              "      <td>23.0</td>\n",
              "      <td>5.660134</td>\n",
              "      <td>3</td>\n",
              "      <td>5.660134</td>\n",
              "      <td>1</td>\n",
              "      <td>2.0</td>\n",
              "      <td>1.0</td>\n",
              "    </tr>\n",
              "    <tr>\n",
              "      <th>2</th>\n",
              "      <td>C</td>\n",
              "      <td>1712</td>\n",
              "      <td>Small</td>\n",
              "      <td>2019-09-26 06:56:51</td>\n",
              "      <td>33364.0</td>\n",
              "      <td>4.426006</td>\n",
              "      <td>3</td>\n",
              "      <td>4.426006</td>\n",
              "      <td>1</td>\n",
              "      <td>2.0</td>\n",
              "      <td>1.0</td>\n",
              "    </tr>\n",
              "    <tr>\n",
              "      <th>3</th>\n",
              "      <td>C</td>\n",
              "      <td>1712</td>\n",
              "      <td>Small</td>\n",
              "      <td>2019-09-26 06:57:21</td>\n",
              "      <td>30.0</td>\n",
              "      <td>5.697719</td>\n",
              "      <td>3</td>\n",
              "      <td>5.697719</td>\n",
              "      <td>1</td>\n",
              "      <td>2.0</td>\n",
              "      <td>1.0</td>\n",
              "    </tr>\n",
              "    <tr>\n",
              "      <th>4</th>\n",
              "      <td>C</td>\n",
              "      <td>1712</td>\n",
              "      <td>Small</td>\n",
              "      <td>2019-09-26 09:21:36</td>\n",
              "      <td>8655.0</td>\n",
              "      <td>6.352076</td>\n",
              "      <td>3</td>\n",
              "      <td>6.352076</td>\n",
              "      <td>1</td>\n",
              "      <td>2.0</td>\n",
              "      <td>1.0</td>\n",
              "    </tr>\n",
              "    <tr>\n",
              "      <th>...</th>\n",
              "      <td>...</td>\n",
              "      <td>...</td>\n",
              "      <td>...</td>\n",
              "      <td>...</td>\n",
              "      <td>...</td>\n",
              "      <td>...</td>\n",
              "      <td>...</td>\n",
              "      <td>...</td>\n",
              "      <td>...</td>\n",
              "      <td>...</td>\n",
              "      <td>...</td>\n",
              "    </tr>\n",
              "    <tr>\n",
              "      <th>8528</th>\n",
              "      <td>C</td>\n",
              "      <td>13015</td>\n",
              "      <td>Big</td>\n",
              "      <td>2020-09-05 01:13:00</td>\n",
              "      <td>10267.0</td>\n",
              "      <td>2.967675</td>\n",
              "      <td>0</td>\n",
              "      <td>2.967675</td>\n",
              "      <td>1</td>\n",
              "      <td>2.0</td>\n",
              "      <td>0.0</td>\n",
              "    </tr>\n",
              "    <tr>\n",
              "      <th>8529</th>\n",
              "      <td>C</td>\n",
              "      <td>13015</td>\n",
              "      <td>Big</td>\n",
              "      <td>2020-09-05 05:29:37</td>\n",
              "      <td>15397.0</td>\n",
              "      <td>2.938943</td>\n",
              "      <td>0</td>\n",
              "      <td>0.934394</td>\n",
              "      <td>2</td>\n",
              "      <td>2.0</td>\n",
              "      <td>0.0</td>\n",
              "    </tr>\n",
              "    <tr>\n",
              "      <th>8530</th>\n",
              "      <td>C</td>\n",
              "      <td>13015</td>\n",
              "      <td>Big</td>\n",
              "      <td>2020-09-05 09:40:12</td>\n",
              "      <td>15035.0</td>\n",
              "      <td>0.116960</td>\n",
              "      <td>0</td>\n",
              "      <td>0.116960</td>\n",
              "      <td>1</td>\n",
              "      <td>2.0</td>\n",
              "      <td>0.0</td>\n",
              "    </tr>\n",
              "    <tr>\n",
              "      <th>8531</th>\n",
              "      <td>C</td>\n",
              "      <td>13015</td>\n",
              "      <td>Big</td>\n",
              "      <td>2020-09-05 11:07:14</td>\n",
              "      <td>5220.0</td>\n",
              "      <td>0.931451</td>\n",
              "      <td>0</td>\n",
              "      <td>0.931451</td>\n",
              "      <td>1</td>\n",
              "      <td>2.0</td>\n",
              "      <td>0.0</td>\n",
              "    </tr>\n",
              "    <tr>\n",
              "      <th>8532</th>\n",
              "      <td>C</td>\n",
              "      <td>13015</td>\n",
              "      <td>Big</td>\n",
              "      <td>2020-09-05 12:48:30</td>\n",
              "      <td>6076.0</td>\n",
              "      <td>1.160177</td>\n",
              "      <td>0</td>\n",
              "      <td>1.160177</td>\n",
              "      <td>1</td>\n",
              "      <td>2.0</td>\n",
              "      <td>0.0</td>\n",
              "    </tr>\n",
              "  </tbody>\n",
              "</table>\n",
              "<p>8533 rows × 11 columns</p>\n",
              "</div>"
            ],
            "text/plain": [
              "     HH_ID  Roll_ID Roll_Type  ... Total_Pulls   ID  Type\n",
              "0        C     1712     Small  ...           1  2.0   1.0\n",
              "1        C     1712     Small  ...           1  2.0   1.0\n",
              "2        C     1712     Small  ...           1  2.0   1.0\n",
              "3        C     1712     Small  ...           1  2.0   1.0\n",
              "4        C     1712     Small  ...           1  2.0   1.0\n",
              "...    ...      ...       ...  ...         ...  ...   ...\n",
              "8528     C    13015       Big  ...           1  2.0   0.0\n",
              "8529     C    13015       Big  ...           2  2.0   0.0\n",
              "8530     C    13015       Big  ...           1  2.0   0.0\n",
              "8531     C    13015       Big  ...           1  2.0   0.0\n",
              "8532     C    13015       Big  ...           1  2.0   0.0\n",
              "\n",
              "[8533 rows x 11 columns]"
            ]
          },
          "metadata": {
            "tags": []
          },
          "execution_count": 558
        }
      ]
    },
    {
      "cell_type": "code",
      "metadata": {
        "colab": {
          "base_uri": "https://localhost:8080/"
        },
        "id": "hsabVMkbNG15",
        "outputId": "24d5c02e-7fde-4f66-bee7-af7e63d747e5"
      },
      "source": [
        "print(sheets['Task'].value_counts().sort_index())"
      ],
      "execution_count": 566,
      "outputs": [
        {
          "output_type": "stream",
          "text": [
            "0    2279\n",
            "1    1950\n",
            "2     835\n",
            "3    3469\n",
            "Name: Task, dtype: int64\n"
          ],
          "name": "stdout"
        }
      ]
    },
    {
      "cell_type": "code",
      "metadata": {
        "id": "zBAr86L2dTH-"
      },
      "source": [
        "#df[df['Sheets'] < 0]['Task'] = 'Reroll'\n",
        "#df.loc[df['Sheets'] < 0, 'Task'] = 'Reroll/Rewound'"
      ],
      "execution_count": null,
      "outputs": []
    },
    {
      "cell_type": "markdown",
      "metadata": {
        "id": "YIzkXT98dfR5"
      },
      "source": [
        "# Alternative Approaches"
      ]
    },
    {
      "cell_type": "code",
      "metadata": {
        "id": "mwQAb3uDNR6K"
      },
      "source": [
        "from sklearn.cluster import AgglomerativeClustering"
      ],
      "execution_count": 567,
      "outputs": []
    },
    {
      "cell_type": "code",
      "metadata": {
        "id": "If4UOjwBNZX3",
        "colab": {
          "base_uri": "https://localhost:8080/"
        },
        "outputId": "34f70e21-070a-41a2-d8da-f24158033b73"
      },
      "source": [
        "agg = AgglomerativeClustering(n_clusters = 4, linkage = 'average')\n",
        "agg.fit(X)"
      ],
      "execution_count": 568,
      "outputs": [
        {
          "output_type": "execute_result",
          "data": {
            "text/plain": [
              "AgglomerativeClustering(affinity='euclidean', compute_full_tree='auto',\n",
              "                        connectivity=None, distance_threshold=None,\n",
              "                        linkage='average', memory=None, n_clusters=4)"
            ]
          },
          "metadata": {
            "tags": []
          },
          "execution_count": 568
        }
      ]
    },
    {
      "cell_type": "code",
      "metadata": {
        "id": "RaEWZ3Asaqmv",
        "colab": {
          "base_uri": "https://localhost:8080/"
        },
        "outputId": "0c6a5de9-ad69-4c11-d104-ccb92e48c048"
      },
      "source": [
        "from scipy.spatial import distance_matrix\n",
        "from scipy.cluster import hierarchy\n",
        "dist_matrix = distance_matrix(X,X)\n",
        "Z = hierarchy.linkage(dist_matrix, 'complete')\n"
      ],
      "execution_count": 569,
      "outputs": [
        {
          "output_type": "stream",
          "text": [
            "/usr/local/lib/python3.7/dist-packages/ipykernel_launcher.py:4: ClusterWarning: scipy.cluster: The symmetric non-negative hollow observation matrix looks suspiciously like an uncondensed distance matrix\n",
            "  after removing the cwd from sys.path.\n"
          ],
          "name": "stderr"
        }
      ]
    },
    {
      "cell_type": "code",
      "metadata": {
        "colab": {
          "base_uri": "https://localhost:8080/",
          "height": 268
        },
        "id": "5NbMSHc0hkyv",
        "outputId": "6027eccb-a13d-49e3-dc5f-fbd3ee0e1732"
      },
      "source": [
        "dendro = hierarchy.dendrogram(Z)"
      ],
      "execution_count": 570,
      "outputs": [
        {
          "output_type": "display_data",
          "data": {
            "image/png": "[encoded data removed]",
            "text/plain": [
              "<Figure size 432x288 with 1 Axes>"
            ]
          },
          "metadata": {
            "tags": [],
            "needs_background": "light"
          }
        }
      ]
    },
    {
      "cell_type": "markdown",
      "metadata": {
        "id": "y4PKeB0YeJO8"
      },
      "source": [
        "# Conclusions: Prediction Insights"
      ]
    },
    {
      "cell_type": "code",
      "metadata": {
        "colab": {
          "base_uri": "https://localhost:8080/",
          "height": 204
        },
        "id": "I73rSFTleNCA",
        "outputId": "6f241ec3-3825-46a4-b89d-992ee047f81e"
      },
      "source": [
        "sheets.groupby('Task')['Total_Pulls'].describe()"
      ],
      "execution_count": 584,
      "outputs": [
        {
          "output_type": "execute_result",
          "data": {
            "text/html": [
              "<div>\n",
              "<style scoped>\n",
              "    .dataframe tbody tr th:only-of-type {\n",
              "        vertical-align: middle;\n",
              "    }\n",
              "\n",
              "    .dataframe tbody tr th {\n",
              "        vertical-align: top;\n",
              "    }\n",
              "\n",
              "    .dataframe thead th {\n",
              "        text-align: right;\n",
              "    }\n",
              "</style>\n",
              "<table border=\"1\" class=\"dataframe\">\n",
              "  <thead>\n",
              "    <tr style=\"text-align: right;\">\n",
              "      <th></th>\n",
              "      <th>count</th>\n",
              "      <th>mean</th>\n",
              "      <th>std</th>\n",
              "      <th>min</th>\n",
              "      <th>25%</th>\n",
              "      <th>50%</th>\n",
              "      <th>75%</th>\n",
              "      <th>max</th>\n",
              "    </tr>\n",
              "    <tr>\n",
              "      <th>Task</th>\n",
              "      <th></th>\n",
              "      <th></th>\n",
              "      <th></th>\n",
              "      <th></th>\n",
              "      <th></th>\n",
              "      <th></th>\n",
              "      <th></th>\n",
              "      <th></th>\n",
              "    </tr>\n",
              "  </thead>\n",
              "  <tbody>\n",
              "    <tr>\n",
              "      <th>0</th>\n",
              "      <td>2279.0</td>\n",
              "      <td>1.220711</td>\n",
              "      <td>0.716659</td>\n",
              "      <td>1.0</td>\n",
              "      <td>1.0</td>\n",
              "      <td>1.0</td>\n",
              "      <td>1.0</td>\n",
              "      <td>9.0</td>\n",
              "    </tr>\n",
              "    <tr>\n",
              "      <th>1</th>\n",
              "      <td>1950.0</td>\n",
              "      <td>1.768718</td>\n",
              "      <td>0.964929</td>\n",
              "      <td>1.0</td>\n",
              "      <td>1.0</td>\n",
              "      <td>2.0</td>\n",
              "      <td>2.0</td>\n",
              "      <td>9.0</td>\n",
              "    </tr>\n",
              "    <tr>\n",
              "      <th>2</th>\n",
              "      <td>835.0</td>\n",
              "      <td>2.502994</td>\n",
              "      <td>0.847300</td>\n",
              "      <td>1.0</td>\n",
              "      <td>2.0</td>\n",
              "      <td>2.0</td>\n",
              "      <td>3.0</td>\n",
              "      <td>7.0</td>\n",
              "    </tr>\n",
              "    <tr>\n",
              "      <th>3</th>\n",
              "      <td>3469.0</td>\n",
              "      <td>1.286826</td>\n",
              "      <td>0.671467</td>\n",
              "      <td>1.0</td>\n",
              "      <td>1.0</td>\n",
              "      <td>1.0</td>\n",
              "      <td>1.0</td>\n",
              "      <td>8.0</td>\n",
              "    </tr>\n",
              "  </tbody>\n",
              "</table>\n",
              "</div>"
            ],
            "text/plain": [
              "       count      mean       std  min  25%  50%  75%  max\n",
              "Task                                                     \n",
              "0     2279.0  1.220711  0.716659  1.0  1.0  1.0  1.0  9.0\n",
              "1     1950.0  1.768718  0.964929  1.0  1.0  2.0  2.0  9.0\n",
              "2      835.0  2.502994  0.847300  1.0  2.0  2.0  3.0  7.0\n",
              "3     3469.0  1.286826  0.671467  1.0  1.0  1.0  1.0  8.0"
            ]
          },
          "metadata": {
            "tags": []
          },
          "execution_count": 584
        }
      ]
    },
    {
      "cell_type": "code",
      "metadata": {
        "id": "SiqQZdcOes-e",
        "colab": {
          "base_uri": "https://localhost:8080/",
          "height": 204
        },
        "outputId": "7a731258-16ef-46b2-ba32-1a74e14cabbd"
      },
      "source": [
        "sheets.groupby('Task')['Total_Sheets'].describe()"
      ],
      "execution_count": 585,
      "outputs": [
        {
          "output_type": "execute_result",
          "data": {
            "text/html": [
              "<div>\n",
              "<style scoped>\n",
              "    .dataframe tbody tr th:only-of-type {\n",
              "        vertical-align: middle;\n",
              "    }\n",
              "\n",
              "    .dataframe tbody tr th {\n",
              "        vertical-align: top;\n",
              "    }\n",
              "\n",
              "    .dataframe thead th {\n",
              "        text-align: right;\n",
              "    }\n",
              "</style>\n",
              "<table border=\"1\" class=\"dataframe\">\n",
              "  <thead>\n",
              "    <tr style=\"text-align: right;\">\n",
              "      <th></th>\n",
              "      <th>count</th>\n",
              "      <th>mean</th>\n",
              "      <th>std</th>\n",
              "      <th>min</th>\n",
              "      <th>25%</th>\n",
              "      <th>50%</th>\n",
              "      <th>75%</th>\n",
              "      <th>max</th>\n",
              "    </tr>\n",
              "    <tr>\n",
              "      <th>Task</th>\n",
              "      <th></th>\n",
              "      <th></th>\n",
              "      <th></th>\n",
              "      <th></th>\n",
              "      <th></th>\n",
              "      <th></th>\n",
              "      <th></th>\n",
              "      <th></th>\n",
              "    </tr>\n",
              "  </thead>\n",
              "  <tbody>\n",
              "    <tr>\n",
              "      <th>0</th>\n",
              "      <td>2279.0</td>\n",
              "      <td>1.945134</td>\n",
              "      <td>1.253142</td>\n",
              "      <td>-7.771117</td>\n",
              "      <td>1.080803</td>\n",
              "      <td>2.231405</td>\n",
              "      <td>2.984023</td>\n",
              "      <td>3.651415</td>\n",
              "    </tr>\n",
              "    <tr>\n",
              "      <th>1</th>\n",
              "      <td>1950.0</td>\n",
              "      <td>9.303720</td>\n",
              "      <td>1.500312</td>\n",
              "      <td>6.818300</td>\n",
              "      <td>8.062499</td>\n",
              "      <td>9.000270</td>\n",
              "      <td>10.356688</td>\n",
              "      <td>12.905485</td>\n",
              "    </tr>\n",
              "    <tr>\n",
              "      <th>2</th>\n",
              "      <td>835.0</td>\n",
              "      <td>16.236981</td>\n",
              "      <td>2.630341</td>\n",
              "      <td>12.628065</td>\n",
              "      <td>14.185790</td>\n",
              "      <td>15.749879</td>\n",
              "      <td>17.675628</td>\n",
              "      <td>29.615914</td>\n",
              "    </tr>\n",
              "    <tr>\n",
              "      <th>3</th>\n",
              "      <td>3469.0</td>\n",
              "      <td>5.244917</td>\n",
              "      <td>0.996944</td>\n",
              "      <td>3.505983</td>\n",
              "      <td>4.392878</td>\n",
              "      <td>5.194779</td>\n",
              "      <td>6.012206</td>\n",
              "      <td>7.506397</td>\n",
              "    </tr>\n",
              "  </tbody>\n",
              "</table>\n",
              "</div>"
            ],
            "text/plain": [
              "       count       mean       std  ...        50%        75%        max\n",
              "Task                               ...                                 \n",
              "0     2279.0   1.945134  1.253142  ...   2.231405   2.984023   3.651415\n",
              "1     1950.0   9.303720  1.500312  ...   9.000270  10.356688  12.905485\n",
              "2      835.0  16.236981  2.630341  ...  15.749879  17.675628  29.615914\n",
              "3     3469.0   5.244917  0.996944  ...   5.194779   6.012206   7.506397\n",
              "\n",
              "[4 rows x 8 columns]"
            ]
          },
          "metadata": {
            "tags": []
          },
          "execution_count": 585
        }
      ]
    },
    {
      "cell_type": "code",
      "metadata": {
        "colab": {
          "base_uri": "https://localhost:8080/",
          "height": 576
        },
        "id": "YB3xtmTPH01w",
        "outputId": "2973fa6e-364d-4516-f4af-6f21146aa594"
      },
      "source": [
        "sheets.groupby(['Task', 'HH_ID'])['Total_Sheets'].describe()"
      ],
      "execution_count": 587,
      "outputs": [
        {
          "output_type": "execute_result",
          "data": {
            "text/html": [
              "<div>\n",
              "<style scoped>\n",
              "    .dataframe tbody tr th:only-of-type {\n",
              "        vertical-align: middle;\n",
              "    }\n",
              "\n",
              "    .dataframe tbody tr th {\n",
              "        vertical-align: top;\n",
              "    }\n",
              "\n",
              "    .dataframe thead th {\n",
              "        text-align: right;\n",
              "    }\n",
              "</style>\n",
              "<table border=\"1\" class=\"dataframe\">\n",
              "  <thead>\n",
              "    <tr style=\"text-align: right;\">\n",
              "      <th></th>\n",
              "      <th></th>\n",
              "      <th>count</th>\n",
              "      <th>mean</th>\n",
              "      <th>std</th>\n",
              "      <th>min</th>\n",
              "      <th>25%</th>\n",
              "      <th>50%</th>\n",
              "      <th>75%</th>\n",
              "      <th>max</th>\n",
              "    </tr>\n",
              "    <tr>\n",
              "      <th>Task</th>\n",
              "      <th>HH_ID</th>\n",
              "      <th></th>\n",
              "      <th></th>\n",
              "      <th></th>\n",
              "      <th></th>\n",
              "      <th></th>\n",
              "      <th></th>\n",
              "      <th></th>\n",
              "      <th></th>\n",
              "    </tr>\n",
              "  </thead>\n",
              "  <tbody>\n",
              "    <tr>\n",
              "      <th rowspan=\"4\" valign=\"top\">0</th>\n",
              "      <th>A</th>\n",
              "      <td>267.0</td>\n",
              "      <td>1.860701</td>\n",
              "      <td>1.077535</td>\n",
              "      <td>-2.723645</td>\n",
              "      <td>1.226824</td>\n",
              "      <td>1.972073</td>\n",
              "      <td>2.723462</td>\n",
              "      <td>3.503062</td>\n",
              "    </tr>\n",
              "    <tr>\n",
              "      <th>B</th>\n",
              "      <td>500.0</td>\n",
              "      <td>1.698678</td>\n",
              "      <td>1.360425</td>\n",
              "      <td>-2.782126</td>\n",
              "      <td>0.361559</td>\n",
              "      <td>1.884366</td>\n",
              "      <td>2.996628</td>\n",
              "      <td>3.562251</td>\n",
              "    </tr>\n",
              "    <tr>\n",
              "      <th>C</th>\n",
              "      <td>559.0</td>\n",
              "      <td>2.155657</td>\n",
              "      <td>1.138702</td>\n",
              "      <td>-2.835978</td>\n",
              "      <td>1.433348</td>\n",
              "      <td>2.395914</td>\n",
              "      <td>3.125273</td>\n",
              "      <td>3.587028</td>\n",
              "    </tr>\n",
              "    <tr>\n",
              "      <th>D</th>\n",
              "      <td>953.0</td>\n",
              "      <td>1.974609</td>\n",
              "      <td>1.281540</td>\n",
              "      <td>-7.771117</td>\n",
              "      <td>1.169115</td>\n",
              "      <td>2.304693</td>\n",
              "      <td>2.966780</td>\n",
              "      <td>3.651415</td>\n",
              "    </tr>\n",
              "    <tr>\n",
              "      <th rowspan=\"4\" valign=\"top\">1</th>\n",
              "      <th>A</th>\n",
              "      <td>124.0</td>\n",
              "      <td>9.056484</td>\n",
              "      <td>1.426227</td>\n",
              "      <td>7.387468</td>\n",
              "      <td>7.986383</td>\n",
              "      <td>8.532212</td>\n",
              "      <td>9.823791</td>\n",
              "      <td>12.627483</td>\n",
              "    </tr>\n",
              "    <tr>\n",
              "      <th>B</th>\n",
              "      <td>287.0</td>\n",
              "      <td>9.363258</td>\n",
              "      <td>1.559787</td>\n",
              "      <td>7.307619</td>\n",
              "      <td>7.993126</td>\n",
              "      <td>8.999315</td>\n",
              "      <td>10.527107</td>\n",
              "      <td>12.813115</td>\n",
              "    </tr>\n",
              "    <tr>\n",
              "      <th>C</th>\n",
              "      <td>256.0</td>\n",
              "      <td>9.097739</td>\n",
              "      <td>1.522717</td>\n",
              "      <td>7.035665</td>\n",
              "      <td>7.891959</td>\n",
              "      <td>8.608901</td>\n",
              "      <td>10.036122</td>\n",
              "      <td>12.729356</td>\n",
              "    </tr>\n",
              "    <tr>\n",
              "      <th>D</th>\n",
              "      <td>1283.0</td>\n",
              "      <td>9.355397</td>\n",
              "      <td>1.484951</td>\n",
              "      <td>6.818300</td>\n",
              "      <td>8.160473</td>\n",
              "      <td>9.091007</td>\n",
              "      <td>10.405518</td>\n",
              "      <td>12.905485</td>\n",
              "    </tr>\n",
              "    <tr>\n",
              "      <th rowspan=\"4\" valign=\"top\">2</th>\n",
              "      <th>A</th>\n",
              "      <td>22.0</td>\n",
              "      <td>15.443627</td>\n",
              "      <td>1.592132</td>\n",
              "      <td>12.777982</td>\n",
              "      <td>14.041036</td>\n",
              "      <td>15.263798</td>\n",
              "      <td>16.620408</td>\n",
              "      <td>18.424931</td>\n",
              "    </tr>\n",
              "    <tr>\n",
              "      <th>B</th>\n",
              "      <td>105.0</td>\n",
              "      <td>15.922892</td>\n",
              "      <td>2.585508</td>\n",
              "      <td>12.900209</td>\n",
              "      <td>14.139051</td>\n",
              "      <td>15.174785</td>\n",
              "      <td>16.991389</td>\n",
              "      <td>28.616499</td>\n",
              "    </tr>\n",
              "    <tr>\n",
              "      <th>C</th>\n",
              "      <td>154.0</td>\n",
              "      <td>16.469385</td>\n",
              "      <td>2.481313</td>\n",
              "      <td>12.662585</td>\n",
              "      <td>14.534866</td>\n",
              "      <td>16.191966</td>\n",
              "      <td>18.074677</td>\n",
              "      <td>24.399198</td>\n",
              "    </tr>\n",
              "    <tr>\n",
              "      <th>D</th>\n",
              "      <td>554.0</td>\n",
              "      <td>16.263412</td>\n",
              "      <td>2.705168</td>\n",
              "      <td>12.628065</td>\n",
              "      <td>14.164476</td>\n",
              "      <td>15.748076</td>\n",
              "      <td>17.739374</td>\n",
              "      <td>29.615914</td>\n",
              "    </tr>\n",
              "    <tr>\n",
              "      <th rowspan=\"4\" valign=\"top\">3</th>\n",
              "      <th>A</th>\n",
              "      <td>438.0</td>\n",
              "      <td>5.485347</td>\n",
              "      <td>1.069296</td>\n",
              "      <td>3.505983</td>\n",
              "      <td>4.628545</td>\n",
              "      <td>5.599430</td>\n",
              "      <td>6.328409</td>\n",
              "      <td>7.506397</td>\n",
              "    </tr>\n",
              "    <tr>\n",
              "      <th>B</th>\n",
              "      <td>1125.0</td>\n",
              "      <td>5.161715</td>\n",
              "      <td>0.935730</td>\n",
              "      <td>3.555718</td>\n",
              "      <td>4.416456</td>\n",
              "      <td>5.070841</td>\n",
              "      <td>5.852861</td>\n",
              "      <td>7.392206</td>\n",
              "    </tr>\n",
              "    <tr>\n",
              "      <th>C</th>\n",
              "      <td>1043.0</td>\n",
              "      <td>5.164764</td>\n",
              "      <td>0.964989</td>\n",
              "      <td>3.566521</td>\n",
              "      <td>4.330215</td>\n",
              "      <td>5.131664</td>\n",
              "      <td>5.861396</td>\n",
              "      <td>7.327079</td>\n",
              "    </tr>\n",
              "    <tr>\n",
              "      <th>D</th>\n",
              "      <td>863.0</td>\n",
              "      <td>5.328224</td>\n",
              "      <td>1.048089</td>\n",
              "      <td>3.600361</td>\n",
              "      <td>4.388850</td>\n",
              "      <td>5.335255</td>\n",
              "      <td>6.216243</td>\n",
              "      <td>7.177332</td>\n",
              "    </tr>\n",
              "  </tbody>\n",
              "</table>\n",
              "</div>"
            ],
            "text/plain": [
              "             count       mean       std  ...        50%        75%        max\n",
              "Task HH_ID                               ...                                 \n",
              "0    A       267.0   1.860701  1.077535  ...   1.972073   2.723462   3.503062\n",
              "     B       500.0   1.698678  1.360425  ...   1.884366   2.996628   3.562251\n",
              "     C       559.0   2.155657  1.138702  ...   2.395914   3.125273   3.587028\n",
              "     D       953.0   1.974609  1.281540  ...   2.304693   2.966780   3.651415\n",
              "1    A       124.0   9.056484  1.426227  ...   8.532212   9.823791  12.627483\n",
              "     B       287.0   9.363258  1.559787  ...   8.999315  10.527107  12.813115\n",
              "     C       256.0   9.097739  1.522717  ...   8.608901  10.036122  12.729356\n",
              "     D      1283.0   9.355397  1.484951  ...   9.091007  10.405518  12.905485\n",
              "2    A        22.0  15.443627  1.592132  ...  15.263798  16.620408  18.424931\n",
              "     B       105.0  15.922892  2.585508  ...  15.174785  16.991389  28.616499\n",
              "     C       154.0  16.469385  2.481313  ...  16.191966  18.074677  24.399198\n",
              "     D       554.0  16.263412  2.705168  ...  15.748076  17.739374  29.615914\n",
              "3    A       438.0   5.485347  1.069296  ...   5.599430   6.328409   7.506397\n",
              "     B      1125.0   5.161715  0.935730  ...   5.070841   5.852861   7.392206\n",
              "     C      1043.0   5.164764  0.964989  ...   5.131664   5.861396   7.327079\n",
              "     D       863.0   5.328224  1.048089  ...   5.335255   6.216243   7.177332\n",
              "\n",
              "[16 rows x 8 columns]"
            ]
          },
          "metadata": {
            "tags": []
          },
          "execution_count": 587
        }
      ]
    },
    {
      "cell_type": "code",
      "metadata": {
        "colab": {
          "base_uri": "https://localhost:8080/",
          "height": 576
        },
        "id": "0pSXNWxFH5ox",
        "outputId": "3332f7cf-6b2c-4674-b9f1-f78fecb61ebc"
      },
      "source": [
        "sheets.groupby(['Task', 'HH_ID'])['Total_Pulls'].describe()"
      ],
      "execution_count": 588,
      "outputs": [
        {
          "output_type": "execute_result",
          "data": {
            "text/html": [
              "<div>\n",
              "<style scoped>\n",
              "    .dataframe tbody tr th:only-of-type {\n",
              "        vertical-align: middle;\n",
              "    }\n",
              "\n",
              "    .dataframe tbody tr th {\n",
              "        vertical-align: top;\n",
              "    }\n",
              "\n",
              "    .dataframe thead th {\n",
              "        text-align: right;\n",
              "    }\n",
              "</style>\n",
              "<table border=\"1\" class=\"dataframe\">\n",
              "  <thead>\n",
              "    <tr style=\"text-align: right;\">\n",
              "      <th></th>\n",
              "      <th></th>\n",
              "      <th>count</th>\n",
              "      <th>mean</th>\n",
              "      <th>std</th>\n",
              "      <th>min</th>\n",
              "      <th>25%</th>\n",
              "      <th>50%</th>\n",
              "      <th>75%</th>\n",
              "      <th>max</th>\n",
              "    </tr>\n",
              "    <tr>\n",
              "      <th>Task</th>\n",
              "      <th>HH_ID</th>\n",
              "      <th></th>\n",
              "      <th></th>\n",
              "      <th></th>\n",
              "      <th></th>\n",
              "      <th></th>\n",
              "      <th></th>\n",
              "      <th></th>\n",
              "      <th></th>\n",
              "    </tr>\n",
              "  </thead>\n",
              "  <tbody>\n",
              "    <tr>\n",
              "      <th rowspan=\"4\" valign=\"top\">0</th>\n",
              "      <th>A</th>\n",
              "      <td>267.0</td>\n",
              "      <td>1.265918</td>\n",
              "      <td>0.761182</td>\n",
              "      <td>1.0</td>\n",
              "      <td>1.0</td>\n",
              "      <td>1.0</td>\n",
              "      <td>1.0</td>\n",
              "      <td>7.0</td>\n",
              "    </tr>\n",
              "    <tr>\n",
              "      <th>B</th>\n",
              "      <td>500.0</td>\n",
              "      <td>1.280000</td>\n",
              "      <td>0.806785</td>\n",
              "      <td>1.0</td>\n",
              "      <td>1.0</td>\n",
              "      <td>1.0</td>\n",
              "      <td>1.0</td>\n",
              "      <td>8.0</td>\n",
              "    </tr>\n",
              "    <tr>\n",
              "      <th>C</th>\n",
              "      <td>559.0</td>\n",
              "      <td>1.220036</td>\n",
              "      <td>0.747679</td>\n",
              "      <td>1.0</td>\n",
              "      <td>1.0</td>\n",
              "      <td>1.0</td>\n",
              "      <td>1.0</td>\n",
              "      <td>9.0</td>\n",
              "    </tr>\n",
              "    <tr>\n",
              "      <th>D</th>\n",
              "      <td>953.0</td>\n",
              "      <td>1.177335</td>\n",
              "      <td>0.627646</td>\n",
              "      <td>1.0</td>\n",
              "      <td>1.0</td>\n",
              "      <td>1.0</td>\n",
              "      <td>1.0</td>\n",
              "      <td>9.0</td>\n",
              "    </tr>\n",
              "    <tr>\n",
              "      <th rowspan=\"4\" valign=\"top\">1</th>\n",
              "      <th>A</th>\n",
              "      <td>124.0</td>\n",
              "      <td>2.120968</td>\n",
              "      <td>1.233626</td>\n",
              "      <td>1.0</td>\n",
              "      <td>1.0</td>\n",
              "      <td>2.0</td>\n",
              "      <td>3.0</td>\n",
              "      <td>9.0</td>\n",
              "    </tr>\n",
              "    <tr>\n",
              "      <th>B</th>\n",
              "      <td>287.0</td>\n",
              "      <td>1.933798</td>\n",
              "      <td>0.911738</td>\n",
              "      <td>1.0</td>\n",
              "      <td>1.0</td>\n",
              "      <td>2.0</td>\n",
              "      <td>2.0</td>\n",
              "      <td>5.0</td>\n",
              "    </tr>\n",
              "    <tr>\n",
              "      <th>C</th>\n",
              "      <td>256.0</td>\n",
              "      <td>1.941406</td>\n",
              "      <td>1.009991</td>\n",
              "      <td>1.0</td>\n",
              "      <td>1.0</td>\n",
              "      <td>2.0</td>\n",
              "      <td>2.0</td>\n",
              "      <td>7.0</td>\n",
              "    </tr>\n",
              "    <tr>\n",
              "      <th>D</th>\n",
              "      <td>1283.0</td>\n",
              "      <td>1.663289</td>\n",
              "      <td>0.919769</td>\n",
              "      <td>1.0</td>\n",
              "      <td>1.0</td>\n",
              "      <td>1.0</td>\n",
              "      <td>2.0</td>\n",
              "      <td>8.0</td>\n",
              "    </tr>\n",
              "    <tr>\n",
              "      <th rowspan=\"4\" valign=\"top\">2</th>\n",
              "      <th>A</th>\n",
              "      <td>22.0</td>\n",
              "      <td>2.363636</td>\n",
              "      <td>0.847711</td>\n",
              "      <td>1.0</td>\n",
              "      <td>2.0</td>\n",
              "      <td>2.0</td>\n",
              "      <td>3.0</td>\n",
              "      <td>4.0</td>\n",
              "    </tr>\n",
              "    <tr>\n",
              "      <th>B</th>\n",
              "      <td>105.0</td>\n",
              "      <td>2.533333</td>\n",
              "      <td>0.877789</td>\n",
              "      <td>1.0</td>\n",
              "      <td>2.0</td>\n",
              "      <td>2.0</td>\n",
              "      <td>3.0</td>\n",
              "      <td>5.0</td>\n",
              "    </tr>\n",
              "    <tr>\n",
              "      <th>C</th>\n",
              "      <td>154.0</td>\n",
              "      <td>2.688312</td>\n",
              "      <td>0.904018</td>\n",
              "      <td>1.0</td>\n",
              "      <td>2.0</td>\n",
              "      <td>2.0</td>\n",
              "      <td>3.0</td>\n",
              "      <td>6.0</td>\n",
              "    </tr>\n",
              "    <tr>\n",
              "      <th>D</th>\n",
              "      <td>554.0</td>\n",
              "      <td>2.451264</td>\n",
              "      <td>0.819280</td>\n",
              "      <td>1.0</td>\n",
              "      <td>2.0</td>\n",
              "      <td>2.0</td>\n",
              "      <td>3.0</td>\n",
              "      <td>7.0</td>\n",
              "    </tr>\n",
              "    <tr>\n",
              "      <th rowspan=\"4\" valign=\"top\">3</th>\n",
              "      <th>A</th>\n",
              "      <td>438.0</td>\n",
              "      <td>1.278539</td>\n",
              "      <td>0.612640</td>\n",
              "      <td>1.0</td>\n",
              "      <td>1.0</td>\n",
              "      <td>1.0</td>\n",
              "      <td>1.0</td>\n",
              "      <td>7.0</td>\n",
              "    </tr>\n",
              "    <tr>\n",
              "      <th>B</th>\n",
              "      <td>1125.0</td>\n",
              "      <td>1.270222</td>\n",
              "      <td>0.649290</td>\n",
              "      <td>1.0</td>\n",
              "      <td>1.0</td>\n",
              "      <td>1.0</td>\n",
              "      <td>1.0</td>\n",
              "      <td>7.0</td>\n",
              "    </tr>\n",
              "    <tr>\n",
              "      <th>C</th>\n",
              "      <td>1043.0</td>\n",
              "      <td>1.234899</td>\n",
              "      <td>0.646450</td>\n",
              "      <td>1.0</td>\n",
              "      <td>1.0</td>\n",
              "      <td>1.0</td>\n",
              "      <td>1.0</td>\n",
              "      <td>7.0</td>\n",
              "    </tr>\n",
              "    <tr>\n",
              "      <th>D</th>\n",
              "      <td>863.0</td>\n",
              "      <td>1.375435</td>\n",
              "      <td>0.746499</td>\n",
              "      <td>1.0</td>\n",
              "      <td>1.0</td>\n",
              "      <td>1.0</td>\n",
              "      <td>2.0</td>\n",
              "      <td>8.0</td>\n",
              "    </tr>\n",
              "  </tbody>\n",
              "</table>\n",
              "</div>"
            ],
            "text/plain": [
              "             count      mean       std  min  25%  50%  75%  max\n",
              "Task HH_ID                                                     \n",
              "0    A       267.0  1.265918  0.761182  1.0  1.0  1.0  1.0  7.0\n",
              "     B       500.0  1.280000  0.806785  1.0  1.0  1.0  1.0  8.0\n",
              "     C       559.0  1.220036  0.747679  1.0  1.0  1.0  1.0  9.0\n",
              "     D       953.0  1.177335  0.627646  1.0  1.0  1.0  1.0  9.0\n",
              "1    A       124.0  2.120968  1.233626  1.0  1.0  2.0  3.0  9.0\n",
              "     B       287.0  1.933798  0.911738  1.0  1.0  2.0  2.0  5.0\n",
              "     C       256.0  1.941406  1.009991  1.0  1.0  2.0  2.0  7.0\n",
              "     D      1283.0  1.663289  0.919769  1.0  1.0  1.0  2.0  8.0\n",
              "2    A        22.0  2.363636  0.847711  1.0  2.0  2.0  3.0  4.0\n",
              "     B       105.0  2.533333  0.877789  1.0  2.0  2.0  3.0  5.0\n",
              "     C       154.0  2.688312  0.904018  1.0  2.0  2.0  3.0  6.0\n",
              "     D       554.0  2.451264  0.819280  1.0  2.0  2.0  3.0  7.0\n",
              "3    A       438.0  1.278539  0.612640  1.0  1.0  1.0  1.0  7.0\n",
              "     B      1125.0  1.270222  0.649290  1.0  1.0  1.0  1.0  7.0\n",
              "     C      1043.0  1.234899  0.646450  1.0  1.0  1.0  1.0  7.0\n",
              "     D       863.0  1.375435  0.746499  1.0  1.0  1.0  2.0  8.0"
            ]
          },
          "metadata": {
            "tags": []
          },
          "execution_count": 588
        }
      ]
    },
    {
      "cell_type": "code",
      "metadata": {
        "id": "xiovqz65IMAG"
      },
      "source": [
        ""
      ],
      "execution_count": null,
      "outputs": []
    }
  ]
}